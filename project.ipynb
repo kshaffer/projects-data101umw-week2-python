{
 "cells": [
  {
   "cell_type": "markdown",
   "metadata": {},
   "source": [
    "# Exploratory Data Analysis with the National Immunization Survey"
   ]
  },
  {
   "cell_type": "markdown",
   "metadata": {},
   "source": [
    "Vaccinations are important for the health of both individuals and society as a whole. A number of factors play into when children are immunized against a variety of diseases: doctor recommendations, limitations set by insurance companies, and in some cases, parental preferences and scheduling logistics.\n",
    "\n",
    "How do these factors play into when children are vaccinated? And how does the scheduling of a vaccine recommended to take place at a certain age (like the Measles, Mumps, Rubella (MMR) vaccine) compare to when children receive vaccines for seasonal diseases like the flu?\n",
    "\n",
    "Let's find out!"
   ]
  },
  {
   "cell_type": "markdown",
   "metadata": {
    "tags": [
     "type:NotebookTask"
    ]
   },
   "source": [
    "## 1. The National Immunization Survey"
   ]
  },
  {
   "cell_type": "markdown",
   "metadata": {
    "tags": [
     "@context"
    ]
   },
   "source": [
    "The National Immunuzation Survey is conducted anually by the US Center for Disease Control, and both the raw data and reports are published [on their website](https://www.cdc.gov/vaccines/imz-managers/nis/datasets.html). Here is a taste of what the dataset looks like."
   ]
  },
  {
   "cell_type": "markdown",
   "metadata": {
    "tags": [
     "@instructions"
    ]
   },
   "source": [
    "Import the 2016 National Immunization Survey from `nis_immunization_2016.csv` and view the first few records.\n",
    "\n",
    "- Import `pandas` as `pd` and `matplotlib.pyplot` as `plt`.\n",
    "- Use the pandas function `read_csv()` to read `nis_immunization_2016.csv` from the folder `datasets` into a pandas dataframe called `vac`.\n",
    "- Use `print()` and `head()` to show the first few rows of the dataframe.\n",
    "\n",
    "<hr>\n",
    "\n",
    "## Good to know\n",
    "\n",
    "You can find (and print out -- maybe even laminate!) a helpful [pandas cheatsheet](https://github.com/pandas-dev/pandas/blob/master/doc/cheatsheet/Pandas_Cheat_Sheet.pdf) to remind yourself of some of the basic commands and workflows we'll be exploring here.\n",
    "\n",
    "Also, this project builds on skills and terms introduced in [Intro to Python for Data Science](https://www.datacamp.com/courses/intro-to-python-for-data-science) and [Intermediate Python for Data Science](https://www.datacamp.com/courses/intermediate-python-for-data-science). Feel free to review the slides and exercises as you go through this project."
   ]
  },
  {
   "cell_type": "markdown",
   "metadata": {
    "tags": [
     "@hint"
    ]
   },
   "source": [
    "The `import ____ as ____` snytax will allow you to import functions and libraries with custom (usually shorter) names like `pd` and `plt`.\n",
    "\n",
    "When calling a `pandas` function, be sure to include both the library and function in your code, and the filename in quotes (single or double will do):\n",
    "\n",
    "```\n",
    "vac = pd.read_csv('datasets/filename.csv')\n",
    "```\n",
    "\n",
    "Remember the syntax difference between functions (like `print()`) and methods (like `head()`). To print the head of a dataframe `df`, use:\n",
    "\n",
    "```\n",
    "print(df.head())\n",
    "```"
   ]
  },
  {
   "cell_type": "code",
   "execution_count": 3,
   "metadata": {
    "tags": [
     "@sample_code"
    ]
   },
   "outputs": [
    {
     "ename": "SyntaxError",
     "evalue": "invalid syntax (<ipython-input-3-e38911c59411>, line 2)",
     "output_type": "error",
     "traceback": [
      "\u001b[1;36m  File \u001b[1;32m\"<ipython-input-3-e38911c59411>\"\u001b[1;36m, line \u001b[1;32m2\u001b[0m\n\u001b[1;33m    ....\u001b[0m\n\u001b[1;37m        ^\u001b[0m\n\u001b[1;31mSyntaxError\u001b[0m\u001b[1;31m:\u001b[0m invalid syntax\n"
     ]
    }
   ],
   "source": [
    "# import pandas as pd and matplotlib.pyplot as plt\n",
    "....\n",
    "\n",
    "# read nis_immunization_2016.csv from the folder datasets, into a pandas dataframe: vac\n",
    "vac = ....\n",
    "\n",
    "# print the first 5 records of vac with head()\n",
    "...."
   ]
  },
  {
   "cell_type": "code",
   "execution_count": 4,
   "metadata": {
    "tags": [
     "@solution"
    ]
   },
   "outputs": [
    {
     "name": "stderr",
     "output_type": "stream",
     "text": [
      "c:\\anaconda3\\lib\\site-packages\\IPython\\core\\interactiveshell.py:2728: DtypeWarning: Columns (15,377,386,387,395,396,404,405,410,422,423,431,438,439,446) have mixed types. Specify dtype option on import or set low_memory=False.\n",
      "  interactivity=interactivity, compiler=compiler, result=result)\n"
     ]
    },
    {
     "name": "stdout",
     "output_type": "stream",
     "text": [
      "   SEQNUMC  SEQNUMHH                                               PDAT  \\\n",
      "0      NaN       NaN         CHILD DOES NOT HAVE ADEQUATE PROVIDER DATA   \n",
      "1      NaN       NaN  CHILD HAS ADEQUATE PROVIDER DATA OR ZERO VACCI...   \n",
      "2      NaN       NaN         CHILD DOES NOT HAVE ADEQUATE PROVIDER DATA   \n",
      "3      NaN       NaN         CHILD DOES NOT HAVE ADEQUATE PROVIDER DATA   \n",
      "4      NaN       NaN  CHILD HAS ADEQUATE PROVIDER DATA OR ZERO VACCI...   \n",
      "\n",
      "      PROVWT_D  PROVWT_D_TERR     RDDWT_D  RDDWT_D_TERR  STRATUM  YEAR  \\\n",
      "0          NaN            NaN  221.539298    221.539298     1060  2016   \n",
      "1  1146.680080    1146.680080  415.401889    415.401889     1014  2016   \n",
      "2          NaN            NaN  150.564728    150.564728     1057  2016   \n",
      "3          NaN            NaN   41.015888     41.015888     1013  2016   \n",
      "4   127.904605     127.904605   71.701052     71.701052     1073  2016   \n",
      "\n",
      "  AGECPOXR                        ...                         XVRCTY2 XVRCTY3  \\\n",
      "0      NaN                        ...                             NaN     NaN   \n",
      "1      NaN                        ...                             NaN     NaN   \n",
      "2      NaN                        ...                             NaN     NaN   \n",
      "3      NaN                        ...                             NaN     NaN   \n",
      "4      NaN                        ...                             NaN     NaN   \n",
      "\n",
      "   XVRCTY4  XVRCTY5 XVRCTY6 XVRCTY7  XVRCTY8 XVRCTY9         INS_STAT_I  \\\n",
      "0      NaN      NaN     NaN     NaN      NaN     NaN                NaN   \n",
      "1      NaN      NaN     NaN     NaN      NaN     NaN  PRIVATE INSURANCE   \n",
      "2      NaN      NaN     NaN     NaN      NaN     NaN                NaN   \n",
      "3      NaN      NaN     NaN     NaN      NaN     NaN                NaN   \n",
      "4      NaN      NaN     NaN     NaN      NaN     NaN  PRIVATE INSURANCE   \n",
      "\n",
      "                                         INS_BREAK_I  \n",
      "0                                                NaN  \n",
      "1  CURRENTLY INSURED AND NEVER UNINSURED SINCE AG...  \n",
      "2                                                NaN  \n",
      "3                                                NaN  \n",
      "4  CURRENTLY INSURED AND NEVER UNINSURED SINCE AG...  \n",
      "\n",
      "[5 rows x 455 columns]\n"
     ]
    }
   ],
   "source": [
    "# import pandas as pd and matplotlib.pyplot as plt\n",
    "import pandas as pd\n",
    "import matplotlib.pyplot as plt\n",
    "\n",
    "# read nis_immunization_2016.csv from the folder datasets, into a pandas dataframe: vac\n",
    "vac = pd.read_csv('datasets/nis_immunization_2016.csv')\n",
    "\n",
    "# print the first 5 records of vac with head()\n",
    "print(vac.head())"
   ]
  },
  {
   "cell_type": "code",
   "execution_count": 14,
   "metadata": {
    "tags": [
     "@tests"
    ]
   },
   "outputs": [
    {
     "data": {
      "application/json": "{\"success\": true, \"summary\": {\"tests\": 1, \"failures\": 0, \"errors\": 0}, \"tests\": [{\"name\": \"test_example\", \"success\": true, \"message\": \"\"}]}"
     },
     "metadata": {},
     "output_type": "display_data"
    },
    {
     "data": {
      "text/plain": [
       "1/1 tests passed\n"
      ]
     },
     "execution_count": 14,
     "metadata": {},
     "output_type": "execute_result"
    }
   ],
   "source": [
    "%%nose\n",
    "\n",
    "# one or more tests of the students code. \n",
    "# The @solution should pass the tests.\n",
    "# The purpose of the tests is to try to catch common errors and to \n",
    "# give the student a hint on how to resolve these errors.\n",
    "\n",
    "def test_example():\n",
    "    assert like_this == 'missing part filled in', \\\n",
    "    'The student will see this message if the test fails'"
   ]
  },
  {
   "cell_type": "markdown",
   "metadata": {
    "tags": [
     "type:NotebookTask"
    ]
   },
   "source": [
    "## 2. The data dictionary"
   ]
  },
  {
   "cell_type": "markdown",
   "metadata": {
    "tags": [
     "@context"
    ]
   },
   "source": [
    "455 columns!!! Wow! Good thing the dataset comes with a dictionary. \n",
    "\n",
    "Let's load the data dictionary and take a look. This tells us what each column label means, the kind of data stored there, and the number of missing values."
   ]
  },
  {
   "cell_type": "markdown",
   "metadata": {
    "tags": [
     "@instructions"
    ]
   },
   "source": [
    "The task instructions start with a brief sentence framing the task.\n",
    "\n",
    "- The specific task instructions go in a bullet point list.\n",
    "- One bullet per sub task.\n",
    "- At most 4 bullets.\n",
    "\n",
    "<hr>\n",
    "\n",
    "Give more info, context, and links to external documentation under the horizontal ruler. The instructions should at most have 800 characters."
   ]
  },
  {
   "cell_type": "markdown",
   "metadata": {
    "tags": [
     "@hint"
    ]
   },
   "source": [
    "This is a hint the student will get if they click the hint button at the bottom of the instructions. It's the last help the student can get, so make it helpful. \n",
    "\n",
    "```\n",
    "# Feel free to include links to documentation.\n",
    "print(\"And code snippets in the hint.\")\n",
    "```"
   ]
  },
  {
   "cell_type": "code",
   "execution_count": 15,
   "metadata": {
    "collapsed": true,
    "tags": [
     "@sample_code"
    ]
   },
   "outputs": [],
   "source": [
    "# load in the data dictionary from nis_immunization_dictionary.csv: vac_dic\n",
    "vac_dic = pd.read_csv('datasets/nis_immunization_dictionary.csv')\n",
    "\n",
    "# print the first 5 records of vac_dic\n",
    "print(vac_dic.head())"
   ]
  },
  {
   "cell_type": "code",
   "execution_count": 7,
   "metadata": {
    "tags": [
     "@solution"
    ]
   },
   "outputs": [
    {
     "name": "stdout",
     "output_type": "stream",
     "text": [
      "                                              Labels  Levels    Class  \\\n",
      "0                                                NaN       1      NaN   \n",
      "1                                                NaN       1      NaN   \n",
      "2                                                NaN       2      NaN   \n",
      "3  FINAL DUAL-FRAME PROVIDER-PHASE WEIGHT (EXCLUD...       0  numeric   \n",
      "4  FINAL DUAL-FRAME PROVIDER-PHASE WEIGHT INCLUDI...       0  numeric   \n",
      "\n",
      "   Storage    NAs  \n",
      "0  integer  28296  \n",
      "1  integer  28296  \n",
      "2  integer      0  \n",
      "3   double  13308  \n",
      "4   double  13012  \n"
     ]
    }
   ],
   "source": [
    "# load in the data dictionary from nis_immunization_dictionary.csv: vac_dic\n",
    "vac_dic = pd.read_csv('datasets/nis_immunization_dictionary.csv')\n",
    "\n",
    "# print the first 5 records of vac_dic\n",
    "print(vac_dic.head())"
   ]
  },
  {
   "cell_type": "code",
   "execution_count": 17,
   "metadata": {
    "tags": [
     "@tests"
    ]
   },
   "outputs": [
    {
     "data": {
      "application/json": "{\"success\": true, \"summary\": {\"tests\": 1, \"failures\": 0, \"errors\": 0}, \"tests\": [{\"name\": \"test_example\", \"success\": true, \"message\": \"\"}]}"
     },
     "metadata": {},
     "output_type": "display_data"
    },
    {
     "data": {
      "text/plain": [
       "1/1 tests passed\n"
      ]
     },
     "execution_count": 17,
     "metadata": {},
     "output_type": "execute_result"
    }
   ],
   "source": [
    "%%nose\n",
    "\n",
    "# one or more tests of the students code. \n",
    "# The @solution should pass the tests.\n",
    "# The purpose of the tests is to try to catch common errors and to \n",
    "# give the student a hint on how to resolve these errors.\n",
    "\n",
    "def test_example():\n",
    "    assert like_this == 'missing part filled in', \\\n",
    "    'The student will see this message if the test fails'"
   ]
  },
  {
   "cell_type": "markdown",
   "metadata": {
    "tags": [
     "type:NotebookTask"
    ]
   },
   "source": [
    "## 3. First MMR Vaccines"
   ]
  },
  {
   "cell_type": "markdown",
   "metadata": {
    "tags": [
     "@context"
    ]
   },
   "source": [
    "There's obviously a lot here worthy of analysis, but let's focus in on two things: a child's first flu vaccine and a child's first MMR vaccine. Let's look at MMR vaccines. "
   ]
  },
  {
   "cell_type": "markdown",
   "metadata": {
    "tags": [
     "@instructions"
    ]
   },
   "source": [
    "The task instructions start with a brief sentence framing the task.\n",
    "\n",
    "- The specific task instructions go in a bullet point list.\n",
    "- One bullet per sub task.\n",
    "- At most 4 bullets.\n",
    "\n",
    "<hr>\n",
    "\n",
    "Give more info, context, and links to external documentation under the horizontal ruler. The instructions should at most have 800 characters."
   ]
  },
  {
   "cell_type": "markdown",
   "metadata": {
    "tags": [
     "@hint"
    ]
   },
   "source": [
    "This is a hint the student will get if they click the hint button at the bottom of the instructions. It's the last help the student can get, so make it helpful. \n",
    "\n",
    "```\n",
    "# Feel free to include links to documentation.\n",
    "print(\"And code snippets in the hint.\")\n",
    "```"
   ]
  },
  {
   "cell_type": "code",
   "execution_count": 18,
   "metadata": {
    "collapsed": true,
    "tags": [
     "@sample_code"
    ]
   },
   "outputs": [],
   "source": [
    "# import median from statistics\n",
    "from statistics import median\n",
    "\n",
    "# make a list from the `DMMR1` column of vac and remove null values: mmr\n",
    "mmr = list(vac[vac['DMMR1'].notnull()]['DMMR1'])\n",
    "\n",
    "# earliest vaccine reported\n",
    "print('The youngest child to receive their first MMR vaccine was ' + str(min(mmr)) + ' days old.')\n",
    "print('The oldest child to receive their first MMR vaccine ' + str(max(mmr)) + ' days old.')\n",
    "print('The typical age at which a child received their first MMR vaccine was ' + str(median(mmr)) + ' days old.')"
   ]
  },
  {
   "cell_type": "code",
   "execution_count": 8,
   "metadata": {
    "tags": [
     "@solution"
    ]
   },
   "outputs": [
    {
     "name": "stdout",
     "output_type": "stream",
     "text": [
      "The youngest child to receive their first MMR vaccine was 62.0 days old.\n",
      "The oldest child to receive their first MMR vaccine 1155.0 days old.\n",
      "The typical age at which a child received their first MMR vaccine was 378.0 days old.\n"
     ]
    }
   ],
   "source": [
    "# import median from statistics\n",
    "from statistics import median\n",
    "\n",
    "# make a list from the `DMMR1` column of vac and remove null values: mmr\n",
    "mmr = list(vac[vac['DMMR1'].notnull()]['DMMR1'])\n",
    "\n",
    "# earliest vaccine reported\n",
    "print('The youngest child to receive their first MMR vaccine was ' + str(min(mmr)) + ' days old.')\n",
    "print('The oldest child to receive their first MMR vaccine ' + str(max(mmr)) + ' days old.')\n",
    "print('The typical age at which a child received their first MMR vaccine was ' + str(median(mmr)) + ' days old.')"
   ]
  },
  {
   "cell_type": "code",
   "execution_count": 20,
   "metadata": {
    "tags": [
     "@tests"
    ]
   },
   "outputs": [
    {
     "data": {
      "application/json": "{\"success\": true, \"summary\": {\"tests\": 1, \"failures\": 0, \"errors\": 0}, \"tests\": [{\"name\": \"test_example\", \"success\": true, \"message\": \"\"}]}"
     },
     "metadata": {},
     "output_type": "display_data"
    },
    {
     "data": {
      "text/plain": [
       "1/1 tests passed\n"
      ]
     },
     "execution_count": 20,
     "metadata": {},
     "output_type": "execute_result"
    }
   ],
   "source": [
    "%%nose\n",
    "\n",
    "# one or more tests of the students code. \n",
    "# The @solution should pass the tests.\n",
    "# The purpose of the tests is to try to catch common errors and to \n",
    "# give the student a hint on how to resolve these errors.\n",
    "\n",
    "def test_example():\n",
    "    assert like_this == 'missing part filled in', \\\n",
    "    'The student will see this message if the test fails'"
   ]
  },
  {
   "cell_type": "markdown",
   "metadata": {
    "tags": [
     "type:NotebookTask"
    ]
   },
   "source": [
    "## 4. Visualizing first MMR vaccines"
   ]
  },
  {
   "cell_type": "markdown",
   "metadata": {
    "tags": [
     "@context"
    ]
   },
   "source": [
    "It seems children tend to receive MMR vaccines around, or just after, their first birthday (365 or 266 days old). These summary statistics are helpful, but there's a wide range between the youngest and oldest recipients of that first MMR vaccine. Let's visualize these vaccination ages to see how those first vaccinations are distributed."
   ]
  },
  {
   "cell_type": "markdown",
   "metadata": {
    "tags": [
     "@instructions"
    ]
   },
   "source": [
    "The task instructions start with a brief sentence framing the task.\n",
    "\n",
    "- The specific task instructions go in a bullet point list.\n",
    "- One bullet per sub task.\n",
    "- At most 4 bullets.\n",
    "\n",
    "<hr>\n",
    "\n",
    "Give more info, context, and links to external documentation under the horizontal ruler. The instructions should at most have 800 characters."
   ]
  },
  {
   "cell_type": "markdown",
   "metadata": {
    "tags": [
     "@hint"
    ]
   },
   "source": [
    "This is a hint the student will get if they click the hint button at the bottom of the instructions. It's the last help the student can get, so make it helpful. \n",
    "\n",
    "```\n",
    "# Feel free to include links to documentation.\n",
    "print(\"And code snippets in the hint.\")\n",
    "```"
   ]
  },
  {
   "cell_type": "code",
   "execution_count": 21,
   "metadata": {
    "collapsed": true,
    "tags": [
     "@sample_code"
    ]
   },
   "outputs": [],
   "source": [
    "# use plt.hist() to display vaccination age distribution, using all default options\n",
    "plt.hist(mmr)\n",
    "plt.xlabel('Age of child (in days) upon receiving first MMR vaccine')\n",
    "plt.ylabel('Number of children')\n",
    "plt.title('Age of children receiving their first MMR immunization')\n",
    "plt.show()"
   ]
  },
  {
   "cell_type": "code",
   "execution_count": 9,
   "metadata": {
    "tags": [
     "@solution"
    ]
   },
   "outputs": [
    {
     "data": {
      "image/png": "[encoded data removed]",
      "text/plain": [
       "<matplotlib.figure.Figure at 0x16a898f4320>"
      ]
     },
     "metadata": {},
     "output_type": "display_data"
    }
   ],
   "source": [
    "# use plt.hist() to display vaccination age distribution, using all default options\n",
    "plt.hist(mmr)\n",
    "plt.xlabel('Age of child (in days) upon receiving first MMR vaccine')\n",
    "plt.ylabel('Number of children')\n",
    "plt.title('Age of children receiving their first MMR immunization')\n",
    "plt.show()"
   ]
  },
  {
   "cell_type": "code",
   "execution_count": 23,
   "metadata": {
    "tags": [
     "@tests"
    ]
   },
   "outputs": [
    {
     "data": {
      "application/json": "{\"success\": true, \"summary\": {\"tests\": 1, \"failures\": 0, \"errors\": 0}, \"tests\": [{\"name\": \"test_example\", \"success\": true, \"message\": \"\"}]}"
     },
     "metadata": {},
     "output_type": "display_data"
    },
    {
     "data": {
      "text/plain": [
       "1/1 tests passed\n"
      ]
     },
     "execution_count": 23,
     "metadata": {},
     "output_type": "execute_result"
    }
   ],
   "source": [
    "%%nose\n",
    "\n",
    "# one or more tests of the students code. \n",
    "# The @solution should pass the tests.\n",
    "# The purpose of the tests is to try to catch common errors and to \n",
    "# give the student a hint on how to resolve these errors.\n",
    "\n",
    "def test_example():\n",
    "    assert like_this == 'missing part filled in', \\\n",
    "    'The student will see this message if the test fails'"
   ]
  },
  {
   "cell_type": "markdown",
   "metadata": {
    "tags": [
     "type:NotebookTask"
    ]
   },
   "source": [
    "## 5. Looking closely"
   ]
  },
  {
   "cell_type": "markdown",
   "metadata": {
    "tags": [
     "@context"
    ]
   },
   "source": [
    "It seems from that histogram that most of the MMR vaccines were around the first or second birthday, and then there is a long tail effect after that. Let's zoom in on the time between first and second birthdays.\n",
    "\n",
    "Now we see multiple spikes in the histogram, previously smoothed over. These roughly correspond to first birthday and 15 months, with a small bump at 18 months. These are dates that doctors recommend children have checkups.\n",
    "\n",
    "Notice also that there is a sharp spike up, and then trail off -- a kind of half vell curve. It seems that parents tend to schedule these checkups on or _after_ the corresponding age (12, 15, or 18 months), rather than before. While we might think this is due to the understandable procrastination of young parents, many vaccines prescribe minimum ages (e.g., 12 months _or older_). As a result, doctors sometimes recommend (and insurance companies sometimes require) checkups with vaccinations coming on or after the child's birthday. And, of course, since these vaccinations are important to the child's health, the earlier the better. Hence the half bell curve."
   ]
  },
  {
   "cell_type": "markdown",
   "metadata": {
    "tags": [
     "@instructions"
    ]
   },
   "source": [
    "The task instructions start with a brief sentence framing the task.\n",
    "\n",
    "- The specific task instructions go in a bullet point list.\n",
    "- One bullet per sub task.\n",
    "- At most 4 bullets.\n",
    "\n",
    "<hr>\n",
    "\n",
    "Give more info, context, and links to external documentation under the horizontal ruler. The instructions should at most have 800 characters."
   ]
  },
  {
   "cell_type": "markdown",
   "metadata": {
    "tags": [
     "@hint"
    ]
   },
   "source": [
    "This is a hint the student will get if they click the hint button at the bottom of the instructions. It's the last help the student can get, so make it helpful. \n",
    "\n",
    "```\n",
    "# Feel free to include links to documentation.\n",
    "print(\"And code snippets in the hint.\")\n",
    "```"
   ]
  },
  {
   "cell_type": "code",
   "execution_count": 10,
   "metadata": {
    "tags": [
     "@sample_code"
    ]
   },
   "outputs": [
    {
     "data": {
      "image/png": "[encoded data removed]",
      "text/plain": [
       "<matplotlib.figure.Figure at 0x16a892f8c88>"
      ]
     },
     "metadata": {},
     "output_type": "display_data"
    }
   ],
   "source": [
    "# focus the histogram to 300-800 days old, and use 100 bins (each bin represents 5 days)\n",
    "plt.hist(mmr, range = (300,800), bins=100)\n",
    "plt.xlabel('Age of child (in days) upon receiving first MMR vaccine')\n",
    "plt.ylabel('Number of children')\n",
    "plt.title('Age of children receiving their first MMR immunization')\n",
    "plt.show()"
   ]
  },
  {
   "cell_type": "code",
   "execution_count": 11,
   "metadata": {
    "tags": [
     "@solution"
    ]
   },
   "outputs": [
    {
     "data": {
      "image/png": "[encoded data removed]",
      "text/plain": [
       "<matplotlib.figure.Figure at 0x16a892e4cf8>"
      ]
     },
     "metadata": {},
     "output_type": "display_data"
    }
   ],
   "source": [
    "# focus the histogram to 300-800 days old, and use 100 bins (each bin represents 5 days)\n",
    "plt.hist(mmr, range = (300,800), bins=100)\n",
    "plt.xlabel('Age of child (in days) upon receiving first MMR vaccine')\n",
    "plt.ylabel('Number of children')\n",
    "plt.title('Age of children receiving their first MMR immunization')\n",
    "plt.show()"
   ]
  },
  {
   "cell_type": "code",
   "execution_count": 26,
   "metadata": {
    "tags": [
     "@tests"
    ]
   },
   "outputs": [
    {
     "data": {
      "application/json": "{\"success\": true, \"summary\": {\"tests\": 1, \"failures\": 0, \"errors\": 0}, \"tests\": [{\"name\": \"test_example\", \"success\": true, \"message\": \"\"}]}"
     },
     "metadata": {},
     "output_type": "display_data"
    },
    {
     "data": {
      "text/plain": [
       "1/1 tests passed\n"
      ]
     },
     "execution_count": 26,
     "metadata": {},
     "output_type": "execute_result"
    }
   ],
   "source": [
    "%%nose\n",
    "\n",
    "# one or more tests of the students code. \n",
    "# The @solution should pass the tests.\n",
    "# The purpose of the tests is to try to catch common errors and to \n",
    "# give the student a hint on how to resolve these errors.\n",
    "\n",
    "def test_example():\n",
    "    assert like_this == 'missing part filled in', \\\n",
    "    'The student will see this message if the test fails'"
   ]
  },
  {
   "cell_type": "markdown",
   "metadata": {
    "tags": [
     "type:NotebookTask"
    ]
   },
   "source": [
    "## 6. First flu vaccine"
   ]
  },
  {
   "cell_type": "markdown",
   "metadata": {
    "tags": [
     "@context"
    ]
   },
   "source": [
    "Let's compare to flu vaccines. Since flu season is tied to a time of year, rather than a person's age, we might expect a different kind of distribution. On the other hand, since infants tend to get their flu vaccines from their pediatrician, we might expect an effect from checkup schedules like we saw with MMR vaccines.\n",
    "\n",
    "But let's start with the summary statistics."
   ]
  },
  {
   "cell_type": "markdown",
   "metadata": {
    "tags": [
     "@instructions"
    ]
   },
   "source": [
    "The task instructions start with a brief sentence framing the task.\n",
    "\n",
    "- The specific task instructions go in a bullet point list.\n",
    "- One bullet per sub task.\n",
    "- At most 4 bullets.\n",
    "\n",
    "<hr>\n",
    "\n",
    "Give more info, context, and links to external documentation under the horizontal ruler. The instructions should at most have 800 characters."
   ]
  },
  {
   "cell_type": "markdown",
   "metadata": {
    "tags": [
     "@hint"
    ]
   },
   "source": [
    "This is a hint the student will get if they click the hint button at the bottom of the instructions. It's the last help the student can get, so make it helpful. \n",
    "\n",
    "```\n",
    "# Feel free to include links to documentation.\n",
    "print(\"And code snippets in the hint.\")\n",
    "```"
   ]
  },
  {
   "cell_type": "code",
   "execution_count": 27,
   "metadata": {
    "collapsed": true,
    "tags": [
     "@sample_code"
    ]
   },
   "outputs": [],
   "source": [
    "# make a list from the `DFLU1` column of vac and remove null values: flu\n",
    "flu = list(vac[vac['DFLU1'].notnull()]['DFLU1'])\n",
    "\n",
    "# earliest vaccine reported\n",
    "print('The youngest child to receive their first flu vaccine was ' + str(min(flu)) + ' days old.')\n",
    "print('The oldest child to receive their first flu vaccine ' + str(max(flu)) + ' days old.')\n",
    "print('The typical age at which a child received their first flu vaccine was ' + str(median(flu)) + ' days old.')"
   ]
  },
  {
   "cell_type": "code",
   "execution_count": 12,
   "metadata": {
    "tags": [
     "@solution"
    ]
   },
   "outputs": [
    {
     "name": "stdout",
     "output_type": "stream",
     "text": [
      "The youngest child to receive their first flu vaccine was 0.0 days old.\n",
      "The oldest child to receive their first flu vaccine 1257.0 days old.\n",
      "The typical age at which a child received their first flu vaccine was 279.0 days old.\n"
     ]
    }
   ],
   "source": [
    "# make a list from the `DFLU1` column of vac and remove null values: flu\n",
    "flu = list(vac[vac['DFLU1'].notnull()]['DFLU1'])\n",
    "\n",
    "# earliest vaccine reported\n",
    "print('The youngest child to receive their first flu vaccine was ' + str(min(flu)) + ' days old.')\n",
    "print('The oldest child to receive their first flu vaccine ' + str(max(flu)) + ' days old.')\n",
    "print('The typical age at which a child received their first flu vaccine was ' + str(median(flu)) + ' days old.')"
   ]
  },
  {
   "cell_type": "code",
   "execution_count": 29,
   "metadata": {
    "tags": [
     "@tests"
    ]
   },
   "outputs": [
    {
     "data": {
      "application/json": "{\"success\": true, \"summary\": {\"tests\": 1, \"failures\": 0, \"errors\": 0}, \"tests\": [{\"name\": \"test_example\", \"success\": true, \"message\": \"\"}]}"
     },
     "metadata": {},
     "output_type": "display_data"
    },
    {
     "data": {
      "text/plain": [
       "1/1 tests passed\n"
      ]
     },
     "execution_count": 29,
     "metadata": {},
     "output_type": "execute_result"
    }
   ],
   "source": [
    "%%nose\n",
    "\n",
    "# one or more tests of the students code. \n",
    "# The @solution should pass the tests.\n",
    "# The purpose of the tests is to try to catch common errors and to \n",
    "# give the student a hint on how to resolve these errors.\n",
    "\n",
    "def test_example():\n",
    "    assert like_this == 'missing part filled in', \\\n",
    "    'The student will see this message if the test fails'"
   ]
  },
  {
   "cell_type": "markdown",
   "metadata": {
    "tags": [
     "type:NotebookTask"
    ]
   },
   "source": [
    "## 7. Visualizing children's first flu vaccines"
   ]
  },
  {
   "cell_type": "markdown",
   "metadata": {
    "tags": [
     "@context"
    ]
   },
   "source": [
    "That definitely looks different than the MMR, as the median age for the first flu vaccine comes before the first birthday. Of course, this is the time of life in which infants have very frequent visits to the pediatrician, so we can't rule out a checkup-scheduling effect. Let's visualize the data and see what we find."
   ]
  },
  {
   "cell_type": "markdown",
   "metadata": {
    "tags": [
     "@instructions"
    ]
   },
   "source": [
    "The task instructions start with a brief sentence framing the task.\n",
    "\n",
    "- The specific task instructions go in a bullet point list.\n",
    "- One bullet per sub task.\n",
    "- At most 4 bullets.\n",
    "\n",
    "<hr>\n",
    "\n",
    "Give more info, context, and links to external documentation under the horizontal ruler. The instructions should at most have 800 characters."
   ]
  },
  {
   "cell_type": "markdown",
   "metadata": {
    "tags": [
     "@hint"
    ]
   },
   "source": [
    "This is a hint the student will get if they click the hint button at the bottom of the instructions. It's the last help the student can get, so make it helpful. \n",
    "\n",
    "```\n",
    "# Feel free to include links to documentation.\n",
    "print(\"And code snippets in the hint.\")\n",
    "```"
   ]
  },
  {
   "cell_type": "code",
   "execution_count": 30,
   "metadata": {
    "collapsed": true,
    "tags": [
     "@sample_code"
    ]
   },
   "outputs": [],
   "source": [
    "# use plt.hist() to display flu vaccination age distribution, 0-800 days old, with 160 bins\n",
    "plt.hist(flu, range = (0,800), bins=160)\n",
    "plt.xlabel('Age of child (in days) upon receiving first flu vaccine')\n",
    "plt.ylabel('Number of children')\n",
    "plt.title('Age of children receiving their first flu immunization')\n",
    "plt.show()"
   ]
  },
  {
   "cell_type": "code",
   "execution_count": 13,
   "metadata": {
    "tags": [
     "@solution"
    ]
   },
   "outputs": [
    {
     "data": {
      "image/png": "[encoded data removed]",
      "text/plain": [
       "<matplotlib.figure.Figure at 0x16a8a2e3a58>"
      ]
     },
     "metadata": {},
     "output_type": "display_data"
    }
   ],
   "source": [
    "# use plt.hist() to display flu vaccination age distribution, 0-800 days old, with 160 bins\n",
    "plt.hist(flu, range = (0,800), bins=160)\n",
    "plt.xlabel('Age of child (in days) upon receiving first flu vaccine')\n",
    "plt.ylabel('Number of children')\n",
    "plt.title('Age of children receiving their first flu immunization')\n",
    "plt.show()"
   ]
  },
  {
   "cell_type": "code",
   "execution_count": 32,
   "metadata": {
    "tags": [
     "@tests"
    ]
   },
   "outputs": [
    {
     "data": {
      "application/json": "{\"success\": true, \"summary\": {\"tests\": 1, \"failures\": 0, \"errors\": 0}, \"tests\": [{\"name\": \"test_example\", \"success\": true, \"message\": \"\"}]}"
     },
     "metadata": {},
     "output_type": "display_data"
    },
    {
     "data": {
      "text/plain": [
       "1/1 tests passed\n"
      ]
     },
     "execution_count": 32,
     "metadata": {},
     "output_type": "execute_result"
    }
   ],
   "source": [
    "%%nose\n",
    "\n",
    "# one or more tests of the students code. \n",
    "# The @solution should pass the tests.\n",
    "# The purpose of the tests is to try to catch common errors and to \n",
    "# give the student a hint on how to resolve these errors.\n",
    "\n",
    "def test_example():\n",
    "    assert like_this == 'missing part filled in', \\\n",
    "    'The student will see this message if the test fails'"
   ]
  },
  {
   "cell_type": "markdown",
   "metadata": {
    "tags": [
     "type:NotebookTask"
    ]
   },
   "source": [
    "## 8. Visualizing the first _three_ flu vaccines"
   ]
  },
  {
   "cell_type": "markdown",
   "metadata": {
    "tags": [
     "@context"
    ]
   },
   "source": [
    "Judging by the shape of the previous histogram, it looks like the first flu shot tends to be administered at a regular checkup, mainly 6, 9, or 12 months. Hardly any were administered before 6 months, which is [the CDC's recommended minimum age](https://www.cdc.gov/flu/protect/children.htm) for a flu vaccine.\n",
    "\n",
    "The flu shot is administered far more frequently than the MMR, though. In fact, most infants are recommended to receive _two_ doses of the flu shot during their first flu season. The National Immunization Survey includes dates for (up to) the first nine flu immunizations, so let's look a little closer at some of these other vaccinations. This next histogram shows the ages at which children received any of their first three (reported) flu shots.\n",
    "\n",
    "This is fascinating! The half bell curve is still pronounced for many of the regular checkups (6, 9, 12, 15, and 18 months), but there is also a more rounded peak about a month after each one of those checkup dates, especially between 6 and 18 months old. The CDC recommends that for children receiving two flu shots in a single season (typical for the first season receiving a flu shot), there should be at least 28 days between doses, explaning the second peak. Since 6 months is the minimum age for the flu vaccine, and a child's first flu season in which they are eligible for the vaccine will come between 6 and 18 months old, this is the time period during which the double-peak is most pronounced.\n",
    "\n",
    "But why is the second peak more rounded than the first? The first peak is a half bell curve likely because of minimum recommended (or required) ages for vaccines administered at those checkups. But the second peak of each pair is only for a flu shot. There is no birthday/milestone associated with the date, and parents might feel less urgency about having the _second_ dose at the first safe date than they do about vaccines their child is receiving for the first time. Regardless, we can see that the first flu shot dates exhibit both a seasonal effect _and_ some of the same checkup-oriented scheduling effects as the MMR, like the half bell curve. However, the _second_ flu shot tends to follow a more normal distribution of ages, despite tending to follow a regular checkup by about a month."
   ]
  },
  {
   "cell_type": "markdown",
   "metadata": {
    "tags": [
     "@instructions"
    ]
   },
   "source": [
    "The task instructions start with a brief sentence framing the task.\n",
    "\n",
    "- The specific task instructions go in a bullet point list.\n",
    "- One bullet per sub task.\n",
    "- At most 4 bullets.\n",
    "\n",
    "<hr>\n",
    "\n",
    "Give more info, context, and links to external documentation under the horizontal ruler. The instructions should at most have 800 characters."
   ]
  },
  {
   "cell_type": "markdown",
   "metadata": {
    "tags": [
     "@hint"
    ]
   },
   "source": [
    "This is a hint the student will get if they click the hint button at the bottom of the instructions. It's the last help the student can get, so make it helpful. \n",
    "\n",
    "```\n",
    "# Feel free to include links to documentation.\n",
    "print(\"And code snippets in the hint.\")\n",
    "```"
   ]
  },
  {
   "cell_type": "code",
   "execution_count": 33,
   "metadata": {
    "collapsed": true,
    "tags": [
     "@sample_code"
    ]
   },
   "outputs": [],
   "source": [
    "# create list containing all non-null ages in `DFLU1`, `DFLU2`, and `DFLU3`: flu_shots\n",
    "flu_shots = list(vac[vac['DFLU1'].notnull()]['DFLU1']) + list(vac[vac['DFLU2'].notnull()]['DFLU2']) + list(vac[vac['DFLU2'].notnull()]['DFLU2'])\n",
    "\n",
    "# use plt.hist() to display flu vaccination age distribution, 0-800 days old, with 160 bins\n",
    "plt.hist(flu_shots, range = (0,800), bins=160)\n",
    "plt.xlabel('Age of child (in days) upon receiving flu vaccine')\n",
    "plt.ylabel('Number of children')\n",
    "plt.title('Age of children receiving their first three flu immunizations')\n",
    "plt.show()"
   ]
  },
  {
   "cell_type": "code",
   "execution_count": 14,
   "metadata": {
    "tags": [
     "@solution"
    ]
   },
   "outputs": [
    {
     "data": {
      "image/png": "[encoded data removed]",
      "text/plain": [
       "<matplotlib.figure.Figure at 0x16a893d0470>"
      ]
     },
     "metadata": {},
     "output_type": "display_data"
    }
   ],
   "source": [
    "# create list containing all non-null ages in `DFLU1`, `DFLU2`, and `DFLU3`: flu_shots\n",
    "flu_shots = list(vac[vac['DFLU1'].notnull()]['DFLU1']) + list(vac[vac['DFLU2'].notnull()]['DFLU2']) + list(vac[vac['DFLU2'].notnull()]['DFLU2'])\n",
    "\n",
    "# use plt.hist() to display flu vaccination age distribution, 0-800 days old, with 160 bins\n",
    "plt.hist(flu_shots, range = (0,800), bins=160)\n",
    "plt.xlabel('Age of child (in days) upon receiving flu vaccine')\n",
    "plt.ylabel('Number of children')\n",
    "plt.title('Age of children receiving their first three flu immunizations')\n",
    "plt.show()"
   ]
  },
  {
   "cell_type": "code",
   "execution_count": 35,
   "metadata": {
    "tags": [
     "@tests"
    ]
   },
   "outputs": [
    {
     "data": {
      "application/json": "{\"success\": true, \"summary\": {\"tests\": 1, \"failures\": 0, \"errors\": 0}, \"tests\": [{\"name\": \"test_example\", \"success\": true, \"message\": \"\"}]}"
     },
     "metadata": {},
     "output_type": "display_data"
    },
    {
     "data": {
      "text/plain": [
       "1/1 tests passed\n"
      ]
     },
     "execution_count": 35,
     "metadata": {},
     "output_type": "execute_result"
    }
   ],
   "source": [
    "%%nose\n",
    "\n",
    "# one or more tests of the students code. \n",
    "# The @solution should pass the tests.\n",
    "# The purpose of the tests is to try to catch common errors and to \n",
    "# give the student a hint on how to resolve these errors.\n",
    "\n",
    "def test_example():\n",
    "    assert like_this == 'missing part filled in', \\\n",
    "    'The student will see this message if the test fails'"
   ]
  },
  {
   "cell_type": "markdown",
   "metadata": {
    "tags": [
     "type:NotebookTask"
    ]
   },
   "source": [
    "## 9. Bringing it all together"
   ]
  },
  {
   "cell_type": "markdown",
   "metadata": {
    "tags": [
     "@context"
    ]
   },
   "source": [
    "Since both of these vaccines are tied to regular doctor visits in some way, let's plot the first MMR and the first flu shot together and see what kind of large-scale relationship we can find."
   ]
  },
  {
   "cell_type": "markdown",
   "metadata": {
    "tags": [
     "@instructions"
    ]
   },
   "source": []
  },
  {
   "cell_type": "markdown",
   "metadata": {
    "tags": [
     "@hint"
    ]
   },
   "source": []
  },
  {
   "cell_type": "code",
   "execution_count": null,
   "metadata": {
    "tags": [
     "@sample_code"
    ]
   },
   "outputs": [],
   "source": [
    "# subset vac to only the `DFLU1` and `DMMR1` columns: flu_vs_mmr\n",
    "flu_vs_mmr = vac[['DFLU1', 'DMMR1']]\n",
    "\n",
    "# use dropna() to remove any row containing one or more null values from flu_vs_mmr\n",
    "flu_vs_mmr = flu_vs_mmr.dropna()\n",
    "\n",
    "# use plt.scatter() to plot the age of the first MMR vaccine (X) against the first flu vaccine (Y)\n",
    "plt.scatter(flu_vs_mmr['DMMR1'], flu_vs_mmr['DFLU1'])\n",
    "plt.xlabel('Age of child (in days) upon receiving first MMR vaccine')\n",
    "plt.ylabel('Age of child (in days) upon receiving first flu vaccine')\n",
    "plt.title('MMR and flu vaccination dates compared')\n",
    "plt.show()"
   ]
  },
  {
   "cell_type": "code",
   "execution_count": 15,
   "metadata": {
    "tags": [
     "@solution"
    ]
   },
   "outputs": [
    {
     "data": {
      "image/png": "[encoded data removed]",
      "text/plain": [
       "<matplotlib.figure.Figure at 0x16a892a30f0>"
      ]
     },
     "metadata": {},
     "output_type": "display_data"
    }
   ],
   "source": [
    "# subset vac to only the `DFLU1` and `DMMR1` columns: flu_vs_mmr\n",
    "flu_vs_mmr = vac[['DFLU1', 'DMMR1']]\n",
    "\n",
    "# use dropna() to remove any row containing one or more null values from flu_vs_mmr\n",
    "flu_vs_mmr = flu_vs_mmr.dropna()\n",
    "\n",
    "# use plt.scatter() to plot the age of the first MMR vaccine (X) against the first flu vaccine (Y)\n",
    "plt.scatter(flu_vs_mmr['DMMR1'], flu_vs_mmr['DFLU1'])\n",
    "plt.xlabel('Age of child (in days) upon receiving first MMR vaccine')\n",
    "plt.ylabel('Age of child (in days) upon receiving first flu vaccine')\n",
    "plt.title('MMR and flu vaccination dates compared')\n",
    "plt.show()"
   ]
  },
  {
   "cell_type": "code",
   "execution_count": null,
   "metadata": {
    "tags": [
     "@test"
    ]
   },
   "outputs": [],
   "source": []
  },
  {
   "cell_type": "markdown",
   "metadata": {
    "tags": [
     "type:NotebookTask"
    ]
   },
   "source": [
    "## 10. Conclusion"
   ]
  },
  {
   "cell_type": "markdown",
   "metadata": {
    "tags": [
     "@context"
    ]
   },
   "source": [
    "I don't know about you, but this isn't what I expected to see! I expected to see more of a linear relationship -- perhaps multiple lines with a `y = x` slope, but different intercepts (corresponding to the scheduled checkup closest to the start of the child's first flu season). Instead, we see a lot of blobs with a rough L shape, taller than they are wide. What does this mean?\n",
    "\n",
    "The vertical line component of each L corresponds to children getting their first MMR at the same age, but their first flu shot on different dates. More pronounced lines correspond to more children getting their MMR at the same age, and expectedly overlap with the spikes we saw in the histogram analysis above. \n",
    "\n",
    "The horizontal lines represent children getting their first flu shot at the same age, but not their MMR. Since the MMR is more tied to age and the flu to season, it makes sense that these lines would be shorter than the vertical lines. The fact that they point to the right, rather than straddle the vertical lines, corresponds to the half bell curve seen in the histograms. As noted above, parents bring children in for checkups _on or after_ certain ages, rather than before. And since infants' MMR shots tend to be done at one of these checkups, it makes sense that we would see this trend here as well.\n",
    "\n",
    "Finally, there _is_ a line in this plot, exactly on the `y = x` slope. What do you think it represents?"
   ]
  },
  {
   "cell_type": "markdown",
   "metadata": {
    "tags": [
     "@instructions"
    ]
   },
   "source": []
  },
  {
   "cell_type": "markdown",
   "metadata": {
    "tags": [
     "@hint"
    ]
   },
   "source": []
  },
  {
   "cell_type": "code",
   "execution_count": null,
   "metadata": {
    "tags": [
     "@sample_code"
    ]
   },
   "outputs": [],
   "source": [
    "# choose the index number corresponding to the best interpretation\n",
    "interpretation = ['children who only received one vaccine.', \n",
    "                  'children who received both vaccines exactly on their birthday.', \n",
    "                  'children who received their first MMR and their first flu shot on the same day.']\n",
    "\n",
    "print('The `y = x` line on the scatter plot corresponds to ' + interpretation[2])"
   ]
  },
  {
   "cell_type": "code",
   "execution_count": 16,
   "metadata": {
    "tags": [
     "@solution"
    ]
   },
   "outputs": [
    {
     "name": "stdout",
     "output_type": "stream",
     "text": [
      "The `y = x` line on the scatter plot corresponds to children who received their first MMR and their first flu shot on the same day.\n"
     ]
    }
   ],
   "source": [
    "# choose the index number corresponding to the best interpretation\n",
    "interpretation = ['children who only received one vaccine.', \n",
    "                  'children who received both vaccines exactly on their birthday.', \n",
    "                  'children who received their first MMR and their first flu shot on the same day.']\n",
    "\n",
    "print('The `y = x` line on the scatter plot corresponds to ' + interpretation[2])"
   ]
  },
  {
   "cell_type": "code",
   "execution_count": null,
   "metadata": {
    "tags": [
     "@test"
    ]
   },
   "outputs": [],
   "source": []
  }
 ],
 "metadata": {
  "celltoolbar": "Tags",
  "kernelspec": {
   "display_name": "Python 3",
   "language": "python",
   "name": "python3"
  },
  "language_info": {
   "codemirror_mode": {
    "name": "ipython",
    "version": 3
   },
   "file_extension": ".py",
   "mimetype": "text/x-python",
   "name": "python",
   "nbconvert_exporter": "python",
   "pygments_lexer": "ipython3",
   "version": "3.5.1"
  }
 },
 "nbformat": 4,
 "nbformat_minor": 2
}
