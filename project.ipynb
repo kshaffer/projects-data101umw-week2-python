{
 "cells": [
  {
   "cell_type": "markdown",
   "metadata": {},
   "source": [
    "# Exploratory Data Analysis with the National Immunization Survey"
   ]
  },
  {
   "cell_type": "code",
   "execution_count": 1,
   "metadata": {
    "collapsed": true
   },
   "outputs": [],
   "source": [
    "# Setup code\n",
    "%load_ext ipython_nose"
   ]
  },
  {
   "cell_type": "markdown",
   "metadata": {
    "tags": [
     "type:NotebookTask"
    ]
   },
   "source": [
    "## 1. The National Immunization Survey"
   ]
  },
  {
   "cell_type": "markdown",
   "metadata": {
    "tags": [
     "@context"
    ]
   },
   "source": [
    "Vaccinations are important for the health of both individuals and society as a whole. A number of factors play into when children are immunized against a variety of diseases: doctor recommendations, limitations set by insurance companies, and in some cases, parental preferences and scheduling logistics.\n",
    "\n",
    "How do these factors play into when children are vaccinated? And how does the scheduling of a vaccine recommended to take place at a certain age (like the Measles, Mumps, Rubella (MMR) vaccine) compare to when children receive vaccines for seasonal diseases like the flu?\n",
    "\n",
    "Let's find out!\n",
    "\n",
    "<hr/>\n",
    "\n",
    "The National Immunuzation Survey is conducted anually by the US Center for Disease Control, and both the raw data and reports are published [on their website](https://www.cdc.gov/vaccines/imz-managers/nis/datasets.html). Here is a taste of what the dataset looks like. (This is a subset of the entire dataset, in order to conserve space.)"
   ]
  },
  {
   "cell_type": "markdown",
   "metadata": {
    "tags": [
     "@instructions"
    ]
   },
   "source": [
    "Import the 2016 National Immunization Survey from `nis_immunization_2016.csv` and view the first few records.\n",
    "\n",
    "- Import `pandas` as `pd` and `matplotlib.pyplot` as `plt`.\n",
    "- Use the pandas function `read_csv()` to read `nis_immunization_2016.csv` from the folder `datasets` into a pandas dataframe called `vac`.\n",
    "- Use `print()` and `head()` to show the first few rows of the dataframe.\n",
    "\n",
    "<hr>\n",
    "\n",
    "## Good to know\n",
    "\n",
    "You can find (and print out -- maybe even laminate!) a helpful [pandas cheatsheet](https://github.com/pandas-dev/pandas/blob/master/doc/cheatsheet/Pandas_Cheat_Sheet.pdf) to remind yourself of some of the basic commands and workflows we'll be exploring here.\n",
    "\n",
    "Also, this project builds on skills and terms introduced in [Intro to Python for Data Science](https://www.datacamp.com/courses/intro-to-python-for-data-science) and [Intermediate Python for Data Science](https://www.datacamp.com/courses/intermediate-python-for-data-science). Feel free to review the slides and exercises as you go through this project."
   ]
  },
  {
   "cell_type": "markdown",
   "metadata": {
    "tags": [
     "@hint"
    ]
   },
   "source": [
    "The `import ____ as ____` snytax will allow you to import functions and libraries with custom (usually shorter) names like `pd` and `plt`.\n",
    "\n",
    "When calling a `pandas` function, be sure to include both the library and function in your code, and the filename in quotes (single or double will do):\n",
    "\n",
    "```\n",
    "vac = pd.read_csv('datasets/filename.csv')\n",
    "```\n",
    "\n",
    "Remember the syntax difference between functions (like `print()`) and methods (like `head()`). To print the head of a dataframe `df`, use:\n",
    "\n",
    "```\n",
    "print(df.head())\n",
    "```"
   ]
  },
  {
   "cell_type": "code",
   "execution_count": 3,
   "metadata": {
    "tags": [
     "@sample_code"
    ]
   },
   "outputs": [
    {
     "ename": "SyntaxError",
     "evalue": "invalid syntax (<ipython-input-3-e38911c59411>, line 2)",
     "output_type": "error",
     "traceback": [
      "\u001b[1;36m  File \u001b[1;32m\"<ipython-input-3-e38911c59411>\"\u001b[1;36m, line \u001b[1;32m2\u001b[0m\n\u001b[1;33m    ....\u001b[0m\n\u001b[1;37m        ^\u001b[0m\n\u001b[1;31mSyntaxError\u001b[0m\u001b[1;31m:\u001b[0m invalid syntax\n"
     ]
    }
   ],
   "source": [
    "# importing pandas as pd and matplotlib.pyplot as plt\n",
    "...\n",
    "\n",
    "# reading nis_immunization_2016.csv from the folder datasets\n",
    "vac = ...\n",
    "\n",
    "# printing the first 5 records of `vac`\n",
    "..."
   ]
  },
  {
   "cell_type": "code",
   "execution_count": 3,
   "metadata": {
    "tags": [
     "@solution"
    ]
   },
   "outputs": [
    {
     "name": "stdout",
     "output_type": "stream",
     "text": [
      "   YEAR          AGEGRP HAD_CPOX  \\\n",
      "0  2016  24 - 29 MONTHS       NO   \n",
      "1  2016  24 - 29 MONTHS       NO   \n",
      "2  2016  24 - 29 MONTHS       NO   \n",
      "3  2016  24 - 29 MONTHS       NO   \n",
      "4  2016  30 - 35 MONTHS       NO   \n",
      "\n",
      "                                                 C5R  CEN_REG       CHILDNM  \\\n",
      "0  MOTHER (STEP, FOSTER, ADOPTIVE) OR FEMALE GUAR...     WEST  TWO OR THREE   \n",
      "1                                        GRANDPARENT    SOUTH  TWO OR THREE   \n",
      "2  MOTHER (STEP, FOSTER, ADOPTIVE) OR FEMALE GUAR...  MIDWEST  FOUR OR MORE   \n",
      "3  MOTHER (STEP, FOSTER, ADOPTIVE) OR FEMALE GUAR...    SOUTH  TWO OR THREE   \n",
      "4   FATHER (STEP, FOSTER, ADOPTIVE) OR MALE GUARDIAN     WEST  TWO OR THREE   \n",
      "\n",
      "                          EDUC1 FRSTBRN LANGUAGE                 INCPOV1  \\\n",
      "0                  COLLEGE GRAD      NO  ENGLISH                 UNKNOWN   \n",
      "1                  COLLEGE GRAD      NO  ENGLISH   ABOVE POVERTY, > $75K   \n",
      "2  > 12 YEARS, NON-COLLEGE GRAD      NO  ENGLISH                 UNKNOWN   \n",
      "3                  COLLEGE GRAD      NO  ENGLISH  ABOVE POVERTY, <= $75K   \n",
      "4                  COLLEGE GRAD     YES  ENGLISH   ABOVE POVERTY, > $75K   \n",
      "\n",
      "   ...   DFLU9  DMMR1 DMMR2 DMMR3 DMMR4 DMMR5 DMMR6 DMMR7 DMMR8  DMMR9  \n",
      "0  ...     NaN    NaN   NaN   NaN   NaN   NaN   NaN   NaN   NaN    NaN  \n",
      "1  ...     NaN  399.0   NaN   NaN   NaN   NaN   NaN   NaN   NaN    NaN  \n",
      "2  ...     NaN    NaN   NaN   NaN   NaN   NaN   NaN   NaN   NaN    NaN  \n",
      "3  ...     NaN    NaN   NaN   NaN   NaN   NaN   NaN   NaN   NaN    NaN  \n",
      "4  ...     NaN  368.0   NaN   NaN   NaN   NaN   NaN   NaN   NaN    NaN  \n",
      "\n",
      "[5 rows x 37 columns]\n"
     ]
    }
   ],
   "source": [
    "# importing pandas as pd and matplotlib.pyplot as plt\n",
    "import pandas as pd\n",
    "import matplotlib.pyplot as plt\n",
    "\n",
    "# reading nis_immunization_2016.csv from the folder datasets\n",
    "vac = pd.read_csv('datasets/nis_immunization_2016.csv')\n",
    "\n",
    "# printing the first 5 records of `vac`\n",
    "print(vac.head())"
   ]
  },
  {
   "cell_type": "code",
   "execution_count": 4,
   "metadata": {
    "tags": [
     "@tests"
    ]
   },
   "outputs": [
    {
     "data": {
      "application/json": "{\"success\": true, \"summary\": {\"tests\": 1, \"failures\": 0, \"errors\": 0}, \"tests\": [{\"name\": \"test_example\", \"success\": true, \"message\": \"\"}]}"
     },
     "metadata": {},
     "output_type": "display_data"
    },
    {
     "data": {
      "text/plain": [
       "1/1 tests passed\n"
      ]
     },
     "execution_count": 4,
     "metadata": {},
     "output_type": "execute_result"
    }
   ],
   "source": [
    "%%nose\n",
    "\n",
    "# one or more tests of the students code. \n",
    "# The @solution should pass the tests.\n",
    "# The purpose of the tests is to try to catch common errors and to \n",
    "# give the student a hint on how to resolve these errors.\n",
    "\n",
    "import pandas as pd\n",
    "\n",
    "def test_example():\n",
    "    correct_vac = pd.read_csv('datasets/nis_immunization_2016.csv')\n",
    "    assert 'vac' in globals(), 'There is no dataframe `vac`. Make sure you\\'ve correctly imported the data.'\n",
    "    \"\"\"\n",
    "    try:\n",
    "        pd.testing.assert_frame_equal(vac, correct_vac)\n",
    "    except AssertionError:\n",
    "        assert False, '`vac` does not contain the data from `datasets/nis_immunization_2016.csv`. Check the hint if you have trouble loading the data.'\n",
    "    \"\"\"\n",
    "    "
   ]
  },
  {
   "cell_type": "markdown",
   "metadata": {
    "tags": [
     "type:NotebookTask"
    ]
   },
   "source": [
    "## 2. The data dictionary"
   ]
  },
  {
   "cell_type": "markdown",
   "metadata": {
    "tags": [
     "@context"
    ]
   },
   "source": [
    "455 columns!!! Wow! Good thing the dataset comes with a dictionary. \n",
    "\n",
    "Let's load the data dictionary and take a look. This tells us what each column label means, the kind of data stored there, and the number of missing values."
   ]
  },
  {
   "cell_type": "markdown",
   "metadata": {
    "tags": [
     "@instructions"
    ]
   },
   "source": [
    "Load and display the first few rows of `datasets/nis_immunization_dictionary.csv`.\n",
    "\n",
    "- Use `read_csv()` to load `datasets/nis_immunization_dictionary.csv` into a `pandas` dataframe called `vac_dic`.\n",
    "- Print the first 5 rows of `vac_dic`.\n",
    "\n",
    "<hr>\n",
    "\n",
    "Use the same procedure as in Task 1. Note that since you already loaded `pandas` as `pd`, you don't need to reload it. Just call its functions with `pd.function_name()`."
   ]
  },
  {
   "cell_type": "markdown",
   "metadata": {
    "tags": [
     "@hint"
    ]
   },
   "source": [
    "After importing `pandas` as `pd`, don't forget to call `pd.read_csv()` instead of just `read_csv()` to use the `pandas` function."
   ]
  },
  {
   "cell_type": "code",
   "execution_count": 2,
   "metadata": {
    "tags": [
     "@sample_code"
    ]
   },
   "outputs": [
    {
     "name": "stdout",
     "output_type": "stream",
     "text": [
      "                                              Labels  Levels    Class  \\\n",
      "0                                                NaN       1      NaN   \n",
      "1                                                NaN       1      NaN   \n",
      "2                                                NaN       2      NaN   \n",
      "3  FINAL DUAL-FRAME PROVIDER-PHASE WEIGHT (EXCLUD...       0  numeric   \n",
      "4  FINAL DUAL-FRAME PROVIDER-PHASE WEIGHT INCLUDI...       0  numeric   \n",
      "\n",
      "   Storage    NAs  \n",
      "0  integer  28296  \n",
      "1  integer  28296  \n",
      "2  integer      0  \n",
      "3   double  13308  \n",
      "4   double  13012  \n"
     ]
    }
   ],
   "source": [
    "# loading in the data dictionary from nis_immunization_dictionary.csv\n",
    "vac_dic = ...\n",
    "\n",
    "# printing the first 5 records of vac_dic\n",
    "print(...)"
   ]
  },
  {
   "cell_type": "code",
   "execution_count": 7,
   "metadata": {
    "tags": [
     "@solution"
    ]
   },
   "outputs": [
    {
     "name": "stdout",
     "output_type": "stream",
     "text": [
      "                                              Labels  Levels    Class  \\\n",
      "0                                                NaN       1      NaN   \n",
      "1                                                NaN       1      NaN   \n",
      "2                                                NaN       2      NaN   \n",
      "3  FINAL DUAL-FRAME PROVIDER-PHASE WEIGHT (EXCLUD...       0  numeric   \n",
      "4  FINAL DUAL-FRAME PROVIDER-PHASE WEIGHT INCLUDI...       0  numeric   \n",
      "\n",
      "   Storage    NAs  \n",
      "0  integer  28296  \n",
      "1  integer  28296  \n",
      "2  integer      0  \n",
      "3   double  13308  \n",
      "4   double  13012  \n"
     ]
    }
   ],
   "source": [
    "# loading in the data dictionary from nis_immunization_dictionary.csv\n",
    "vac_dic = pd.read_csv('datasets/nis_immunization_dictionary.csv')\n",
    "\n",
    "# printing the first 5 records of vac_dic\n",
    "print(vac_dic.head())"
   ]
  },
  {
   "cell_type": "code",
   "execution_count": 4,
   "metadata": {
    "tags": [
     "@tests"
    ]
   },
   "outputs": [
    {
     "data": {
      "application/json": "{\"success\": false, \"summary\": {\"tests\": 1, \"failures\": 0, \"errors\": 1}, \"tests\": [{\"name\": \"test_example\", \"success\": false, \"message\": \"NameError: name 'pd' is not defined\\n\"}]}"
     },
     "metadata": {},
     "output_type": "display_data"
    },
    {
     "data": {
      "text/plain": [
       "0/1 tests passed; 1 failed\n",
       "========\n",
       "__main__.test_example\n",
       "========\n",
       "Traceback (most recent call last):\n",
       "  File \"C:\\ProgramData\\Anaconda3\\lib\\unittest\\case.py\", line 59, in testPartExecutor\n",
       "    yield\n",
       "  File \"C:\\ProgramData\\Anaconda3\\lib\\unittest\\case.py\", line 605, in run\n",
       "    testMethod()\n",
       "  File \"C:\\ProgramData\\Anaconda3\\lib\\site-packages\\nose\\case.py\", line 197, in runTest\n",
       "    self.test(*self.arg)\n",
       "  File \"<string>\", line 8, in test_example\n",
       "NameError: name 'pd' is not defined\n",
       "\n"
      ]
     },
     "execution_count": 4,
     "metadata": {},
     "output_type": "execute_result"
    }
   ],
   "source": [
    "\"\"\"%%nose\n",
    "\n",
    "# one or more tests of the students code. \n",
    "# The @solution should pass the tests.\n",
    "# The purpose of the tests is to try to catch common errors and to \n",
    "# give the student a hint on how to resolve these errors.\n",
    "\n",
    "def test_example():\n",
    "    correct_vac_dic = pd.read_csv('datasets/nis_immunization_dictionary.csv')\n",
    "    assert 'vac_dic' in globals(), 'There is no dataframe `vac_dic`. Make sure you\\'ve correctly imported the data.'\n",
    "    \n",
    "    try:\n",
    "        pd.testing.assert_frame_equal(vac_dic, correct_vac_dic)\n",
    "    except AssertionError:\n",
    "        assert False, '`vac_dic` does not contain the data from `datasets/nis_immunization_dictionary.csv`. Check the hint if you have trouble loading the data.'\n",
    "    \"\"\""
   ]
  },
  {
   "cell_type": "markdown",
   "metadata": {
    "tags": [
     "type:NotebookTask"
    ]
   },
   "source": [
    "## 3. First MMR Vaccines"
   ]
  },
  {
   "cell_type": "markdown",
   "metadata": {
    "tags": [
     "@context"
    ]
   },
   "source": [
    "There's obviously a lot here worthy of analysis, but let's focus in on two things: a child's first flu vaccine and a child's first MMR vaccine. Let's look at MMR vaccines. "
   ]
  },
  {
   "cell_type": "markdown",
   "metadata": {
    "tags": [
     "@instructions"
    ]
   },
   "source": [
    "Find the minimum, maximum, and median ages at which children received their first MMR vaccine.\n",
    "\n",
    "- Import the `median` function from the `statistics` package.\n",
    "- Use `list()` to make a new list `mmr` that includes all non-null values from the `DMMR1` column in the dataframe `vac`.\n",
    "- Apply `min`, `max`, and `median` to `mmr` in order to complete the appropriate `print()` commands.\n",
    "\n",
    "<hr>\n",
    "\n",
    "Keep in mind that you can subset a dataframe according to a list of booleans. `vac_not_null` returns a list of True/False values, denoting rows that have non-null (numeric) or null (NA) values for `DMMR1`. Subset `vac` and then call the `DMMR1` column to get all non-null values in that column.\n",
    "\n",
    "Also remember that `min`, `max`, and `median` return numeric values, not strings. In order to concatenate with strings in your `print()` commands, you will need to use `str()` to convert them to strings."
   ]
  },
  {
   "cell_type": "markdown",
   "metadata": {
    "tags": [
     "@hint"
    ]
   },
   "source": [
    "Subset `vac` by calling\n",
    "\n",
    "```\n",
    "vac[vac_not_null]['DMMR1`]\n",
    "```\n",
    "\n",
    "to return all non-null values in the `DMMR1` column of `vac`. You can also put this all together in one line with\n",
    "\n",
    "```\n",
    "vac[vac['DMMR1'].notnull()]['DMMR1`]\n",
    "```"
   ]
  },
  {
   "cell_type": "code",
   "execution_count": 18,
   "metadata": {
    "collapsed": true,
    "tags": [
     "@sample_code"
    ]
   },
   "outputs": [],
   "source": [
    "# importing median from statistics\n",
    "...\n",
    "\n",
    "# makeing a list from the `DMMR1` column of vac and remove null values\n",
    "vac_not_null = vac['DMMR1'].notnull()\n",
    "mmr = ...\n",
    "\n",
    "# earliest vaccine reported\n",
    "print('The youngest child to receive their first MMR vaccine was ' + .... + ' days old.')\n",
    "print('The oldest child to receive their first MMR vaccine ' + .... + ' days old.')\n",
    "print('The typical age at which a child received their first MMR vaccine was ' + .... + ' days old.')"
   ]
  },
  {
   "cell_type": "code",
   "execution_count": 11,
   "metadata": {
    "tags": [
     "@solution"
    ]
   },
   "outputs": [
    {
     "name": "stdout",
     "output_type": "stream",
     "text": [
      "The youngest child to receive their first MMR vaccine was 62.0 days old.\n",
      "The oldest child to receive their first MMR vaccine 1155.0 days old.\n",
      "The typical age at which a child received their first MMR vaccine was 378.0 days old.\n"
     ]
    }
   ],
   "source": [
    "# importing median from statistics\n",
    "from statistics import median\n",
    "\n",
    "# makeing a list from the `DMMR1` column of vac and remove null values\n",
    "vac_not_null = vac['DMMR1'].notnull()\n",
    "mmr = list(vac[vac_not_null]['DMMR1'])\n",
    "\n",
    "# earliest vaccine reported\n",
    "print('The youngest child to receive their first MMR vaccine was ' + str(min(mmr)) + ' days old.')\n",
    "print('The oldest child to receive their first MMR vaccine ' + str(max(mmr)) + ' days old.')\n",
    "print('The typical age at which a child received their first MMR vaccine was ' + str(median(mmr)) + ' days old.')"
   ]
  },
  {
   "cell_type": "code",
   "execution_count": 13,
   "metadata": {
    "tags": [
     "@tests"
    ]
   },
   "outputs": [
    {
     "data": {
      "application/json": "{\"success\": true, \"summary\": {\"tests\": 1, \"failures\": 0, \"errors\": 0}, \"tests\": [{\"name\": \"test_example\", \"success\": true, \"message\": \"\"}]}"
     },
     "metadata": {},
     "output_type": "display_data"
    },
    {
     "data": {
      "text/plain": [
       "1/1 tests passed\n"
      ]
     },
     "execution_count": 13,
     "metadata": {},
     "output_type": "execute_result"
    }
   ],
   "source": [
    "\"\"\"%%nose\n",
    "\n",
    "# one or more tests of the students code. \n",
    "# The @solution should pass the tests.\n",
    "# The purpose of the tests is to try to catch common errors and to \n",
    "# give the student a hint on how to resolve these errors.\n",
    "\n",
    "def test_example():\n",
    "    correct_mmr = list(vac[vac['DMMR1'].notnull()]['DMMR1'])\n",
    "    \n",
    "    assert mmr == correct_mmr, '`mmr` does not contain the correct data. Don\\'t forget to remove null values.'\n",
    "\"\"\""
   ]
  },
  {
   "cell_type": "markdown",
   "metadata": {
    "tags": [
     "type:NotebookTask"
    ]
   },
   "source": [
    "## 4. Visualizing first MMR vaccines"
   ]
  },
  {
   "cell_type": "markdown",
   "metadata": {
    "tags": [
     "@context"
    ]
   },
   "source": [
    "It seems children tend to receive MMR vaccines around, or just after, their first birthday (365 or 266 days old). These summary statistics are helpful, but there's a wide range between the youngest and oldest recipients of that first MMR vaccine. Let's visualize these vaccination ages to see how those first vaccinations are distributed."
   ]
  },
  {
   "cell_type": "markdown",
   "metadata": {
    "tags": [
     "@instructions"
    ]
   },
   "source": [
    "Display a histogram that shows the distribution of ages at which children receive their first MMR vaccination.\n",
    "\n",
    "- Pass `mmr` to `plt.hist()` to generate a histogram with all default options.\n",
    "- Use `plt.xlabel()`, `plt.ylabel()`, and `plt.title()` to provide appropriate labels to the visualization.\n",
    "- Call `plt.show()` last to display the visualization.\n",
    "\n",
    "Try to make your visualization look something like this:\n",
    "\n",
    "[![](img/histogram_screenshot.png)](img/histogram_screenshot.png)"
   ]
  },
  {
   "cell_type": "markdown",
   "metadata": {
    "tags": [
     "@hint"
    ]
   },
   "source": [
    "`matplotlib.pyplot` was already imported as `plt` in an earlier task. If you left that out, you'll need to import `pyplot` here in order to generate the visualization.\n",
    "\n",
    "Any appropriate string will work for the labels and title. For example:\n",
    "\n",
    "```\n",
    "plt.xlabel('Age of child (in days) upon receiving first MMR vaccine')\n",
    "```"
   ]
  },
  {
   "cell_type": "code",
   "execution_count": 21,
   "metadata": {
    "collapsed": true,
    "tags": [
     "@sample_code"
    ]
   },
   "outputs": [],
   "source": [
    "# Displaying vaccination age distribution, using all default options\n",
    "..."
   ]
  },
  {
   "cell_type": "code",
   "execution_count": 9,
   "metadata": {
    "tags": [
     "@solution"
    ]
   },
   "outputs": [
    {
     "data": {
      "image/png": "[encoded data removed]",
      "text/plain": [
       "<matplotlib.figure.Figure at 0x16a898f4320>"
      ]
     },
     "metadata": {},
     "output_type": "display_data"
    }
   ],
   "source": [
    "# Displaying vaccination age distribution, using all default options\n",
    "plt.hist(mmr)\n",
    "plt.xlabel('Age of child (in days) upon receiving first MMR vaccine')\n",
    "plt.ylabel('Number of children')\n",
    "plt.title('Age of children receiving their first MMR immunization')\n",
    "plt.show()"
   ]
  },
  {
   "cell_type": "code",
   "execution_count": 15,
   "metadata": {
    "tags": [
     "@tests"
    ]
   },
   "outputs": [
    {
     "data": {
      "application/json": "{\"success\": true, \"summary\": {\"tests\": 1, \"failures\": 0, \"errors\": 0}, \"tests\": [{\"name\": \"test_example\", \"success\": true, \"message\": \"\"}]}"
     },
     "metadata": {},
     "output_type": "display_data"
    },
    {
     "data": {
      "text/plain": [
       "1/1 tests passed\n"
      ]
     },
     "execution_count": 15,
     "metadata": {},
     "output_type": "execute_result"
    }
   ],
   "source": [
    "\"\"\"%%nose\n",
    "\n",
    "# one or more tests of the students code. \n",
    "# The @solution should pass the tests.\n",
    "# The purpose of the tests is to try to catch common errors and to \n",
    "# give the student a hint on how to resolve these errors.\n",
    "\n",
    "def test_example():\n",
    "    assert 'mmr' in globals(), \\\n",
    "    'Check to see that `mmr` contains the data you need.'\"\"\""
   ]
  },
  {
   "cell_type": "markdown",
   "metadata": {
    "tags": [
     "type:NotebookTask"
    ]
   },
   "source": [
    "## 5. Looking closely"
   ]
  },
  {
   "cell_type": "markdown",
   "metadata": {
    "tags": [
     "@context"
    ]
   },
   "source": [
    "It seems from that histogram that most of the MMR vaccines were around the first or second birthday, and then there is a long tail effect after that. Let's zoom in on the time between first and second birthdays.\n",
    "\n",
    "Now we see multiple spikes in the histogram, previously smoothed over. These roughly correspond to first birthday and 15 months, with a small bump at 18 months. These are dates that doctors recommend children have checkups.\n",
    "\n",
    "Notice also that there is a sharp spike up, and then trail off -- a kind of half vell curve. It seems that parents tend to schedule these checkups on or _after_ the corresponding age (12, 15, or 18 months), rather than before. While we might think this is due to the understandable procrastination of young parents, many vaccines prescribe minimum ages (e.g., 12 months _or older_). As a result, doctors sometimes recommend (and insurance companies sometimes require) checkups with vaccinations coming on or after the child's birthday. And, of course, since these vaccinations are important to the child's health, the earlier the better. Hence the half bell curve."
   ]
  },
  {
   "cell_type": "markdown",
   "metadata": {
    "tags": [
     "@instructions"
    ]
   },
   "source": [
    "Fine tune the histogram from Task 4 to include 100 bins (each bin representing a 5-day period) and to limit the plot to vaccinations between 300 and 800 days old.\n",
    "\n",
    "- Copy the code over from Task 4.\n",
    "- In `plt.hist()`, add `range =` followed by a tuple containing the new minimum and maximum ages (`300` and `800`).\n",
    "- In `plt.hist()`, add `bins =` followed by the new number of bins (`100`).\n",
    "\n",
    "<hr>\n",
    "\n",
    "Take the opportunity to try other values for `range` and `bins`. Can you find new interesting patterns in the data by adjusting these values? What values do you think are optimal for communicating those patterns visually?"
   ]
  },
  {
   "cell_type": "markdown",
   "metadata": {
    "tags": [
     "@hint"
    ]
   },
   "source": [
    "`range` takes a _tuple_, while `bins` takes an _integer_. For example:\n",
    "\n",
    "```\n",
    "plt.hist(mmr, range = (100,200), bins = 50)\n",
    "```\n",
    "\n",
    "Don't forget to include your plot title and axis labels!"
   ]
  },
  {
   "cell_type": "code",
   "execution_count": 10,
   "metadata": {
    "tags": [
     "@sample_code"
    ]
   },
   "outputs": [
    {
     "data": {
      "image/png": "[encoded data removed]",
      "text/plain": [
       "<matplotlib.figure.Figure at 0x16a892f8c88>"
      ]
     },
     "metadata": {},
     "output_type": "display_data"
    }
   ],
   "source": [
    "# focusing the histogram to 300-800 days old, and using 100 bins (each bin represents 5 days)\n",
    "plt.hist(..., range = ..., bins = ...)\n",
    "..."
   ]
  },
  {
   "cell_type": "code",
   "execution_count": 11,
   "metadata": {
    "tags": [
     "@solution"
    ]
   },
   "outputs": [
    {
     "data": {
      "image/png": "[encoded data removed]",
      "text/plain": [
       "<matplotlib.figure.Figure at 0x16a892e4cf8>"
      ]
     },
     "metadata": {},
     "output_type": "display_data"
    }
   ],
   "source": [
    "# focusing the histogram to 300-800 days old, and using 100 bins (each bin represents 5 days)\n",
    "plt.hist(mmr, range = (300,800), bins=100)\n",
    "plt.xlabel('Age of child (in days) upon receiving first MMR vaccine')\n",
    "plt.ylabel('Number of children')\n",
    "plt.title('Age of children receiving their first MMR immunization')\n",
    "plt.show()"
   ]
  },
  {
   "cell_type": "code",
   "execution_count": 16,
   "metadata": {
    "tags": [
     "@tests"
    ]
   },
   "outputs": [
    {
     "data": {
      "application/json": "{\"success\": true, \"summary\": {\"tests\": 1, \"failures\": 0, \"errors\": 0}, \"tests\": [{\"name\": \"test_example\", \"success\": true, \"message\": \"\"}]}"
     },
     "metadata": {},
     "output_type": "display_data"
    },
    {
     "data": {
      "text/plain": [
       "1/1 tests passed\n"
      ]
     },
     "execution_count": 16,
     "metadata": {},
     "output_type": "execute_result"
    }
   ],
   "source": [
    "\"\"\"%%nose\n",
    "\n",
    "# one or more tests of the students code. \n",
    "# The @solution should pass the tests.\n",
    "# The purpose of the tests is to try to catch common errors and to \n",
    "# give the student a hint on how to resolve these errors.\n",
    "\n",
    "def test_example():\n",
    "    assert 'mmr' in globals(), \\\n",
    "    'Check to see that `mmr` contains the data you need.'\"\"\""
   ]
  },
  {
   "cell_type": "markdown",
   "metadata": {
    "tags": [
     "type:NotebookTask"
    ]
   },
   "source": [
    "## 6. First flu vaccine"
   ]
  },
  {
   "cell_type": "markdown",
   "metadata": {
    "tags": [
     "@context"
    ]
   },
   "source": [
    "Let's compare to flu vaccines. Since flu season is tied to a time of year, rather than a person's age, we might expect a different kind of distribution. On the other hand, since infants tend to get their flu vaccines from their pediatrician, we might expect an effect from checkup schedules like we saw with MMR vaccines.\n",
    "\n",
    "But let's start with the summary statistics."
   ]
  },
  {
   "cell_type": "markdown",
   "metadata": {
    "tags": [
     "@instructions"
    ]
   },
   "source": [
    "Find the minimum, maximum, and median ages at which children received their first flu vaccine.\n",
    "\n",
    "- Create a boolean list `flu_not_null` denoting which rows of `vac` contain non-null values for `DFLU1`. (Follow the pattern in Task 3.)\n",
    "- Create a new list `flu` that contains all non-null values in the `DFLU1` column of `vac`.\n",
    "- Apply `min`, `max`, and `median` to `mmr` in order to complete the appropriate `print()` commands."
   ]
  },
  {
   "cell_type": "markdown",
   "metadata": {
    "tags": [
     "@hint"
    ]
   },
   "source": [
    "Use the code from Task 3 as your guide, and simply change the column name."
   ]
  },
  {
   "cell_type": "code",
   "execution_count": 27,
   "metadata": {
    "collapsed": true,
    "tags": [
     "@sample_code"
    ]
   },
   "outputs": [],
   "source": [
    "# making a list from the `DFLU1` column of vac and remove null values\n",
    "flu_not_null = vac[...].notnull()\n",
    "flu = ...\n",
    "\n",
    "# earliest vaccine reported\n",
    "print('The youngest child to receive their first flu vaccine was ' + ... + ' days old.')\n",
    "print('The oldest child to receive their first flu vaccine ' + ... + ' days old.')\n",
    "print('The typical age at which a child received their first flu vaccine was ' + ... + ' days old.')"
   ]
  },
  {
   "cell_type": "code",
   "execution_count": 18,
   "metadata": {
    "tags": [
     "@solution"
    ]
   },
   "outputs": [
    {
     "name": "stdout",
     "output_type": "stream",
     "text": [
      "The youngest child to receive their first flu vaccine was 0.0 days old.\n",
      "The oldest child to receive their first flu vaccine 1257.0 days old.\n",
      "The typical age at which a child received their first flu vaccine was 279.0 days old.\n"
     ]
    }
   ],
   "source": [
    "# making a list from the `DFLU1` column of vac and remove null values\n",
    "flu_not_null = vac['DFLU1'].notnull()\n",
    "flu = list(vac[flu_not_null]['DFLU1'])\n",
    "\n",
    "# earliest vaccine reported\n",
    "print('The youngest child to receive their first flu vaccine was ' + str(min(flu)) + ' days old.')\n",
    "print('The oldest child to receive their first flu vaccine ' + str(max(flu)) + ' days old.')\n",
    "print('The typical age at which a child received their first flu vaccine was ' + str(median(flu)) + ' days old.')"
   ]
  },
  {
   "cell_type": "code",
   "execution_count": 19,
   "metadata": {
    "tags": [
     "@tests"
    ]
   },
   "outputs": [
    {
     "data": {
      "application/json": "{\"success\": true, \"summary\": {\"tests\": 1, \"failures\": 0, \"errors\": 0}, \"tests\": [{\"name\": \"test_example\", \"success\": true, \"message\": \"\"}]}"
     },
     "metadata": {},
     "output_type": "display_data"
    },
    {
     "data": {
      "text/plain": [
       "1/1 tests passed\n"
      ]
     },
     "execution_count": 19,
     "metadata": {},
     "output_type": "execute_result"
    }
   ],
   "source": [
    "\"\"\"%%nose\n",
    "\n",
    "# one or more tests of the students code. \n",
    "# The @solution should pass the tests.\n",
    "# The purpose of the tests is to try to catch common errors and to \n",
    "# give the student a hint on how to resolve these errors.\n",
    "\n",
    "def test_example():\n",
    "    correct_flu = list(vac[vac['DFLU1'].notnull()]['DFLU1'])\n",
    "    \n",
    "    assert flu == correct_flu, '`flu` does not contain the correct data. Don\\'t forget to remove null values.'\n",
    "\"\"\""
   ]
  },
  {
   "cell_type": "markdown",
   "metadata": {
    "tags": [
     "type:NotebookTask"
    ]
   },
   "source": [
    "## 7. Visualizing children's first flu vaccines"
   ]
  },
  {
   "cell_type": "markdown",
   "metadata": {
    "tags": [
     "@context"
    ]
   },
   "source": [
    "That definitely looks different than the MMR, as the median age for the first flu vaccine comes before the first birthday. Of course, this is the time of life in which infants have very frequent visits to the pediatrician, so we can't rule out a checkup-scheduling effect. Let's visualize the data and see what we find."
   ]
  },
  {
   "cell_type": "markdown",
   "metadata": {
    "tags": [
     "@instructions"
    ]
   },
   "source": [
    "Fine tune the histogram from Task 5 to plot first flu shots between 0 and 800 days old, with each bin representing a 5-day period.\n",
    "\n",
    "- Copy the code over from Task 5.\n",
    "- Change the value of `range` to return the range 0-800 days.\n",
    "- Change the value of `bins` to maintain 5-day bins for the new range."
   ]
  },
  {
   "cell_type": "markdown",
   "metadata": {
    "tags": [
     "@hint"
    ]
   },
   "source": [
    "Remember that `range` takes a tuple and `bins` takes an integer.\n",
    "\n",
    "To return 5-day bins for the range 0-800, set `bins` to `160`."
   ]
  },
  {
   "cell_type": "code",
   "execution_count": 30,
   "metadata": {
    "collapsed": true,
    "tags": [
     "@sample_code"
    ]
   },
   "outputs": [],
   "source": [
    "# Display flu vaccination age distribution as histogram, 0-800 days old, with 160 bins\n",
    "..."
   ]
  },
  {
   "cell_type": "code",
   "execution_count": 13,
   "metadata": {
    "tags": [
     "@solution"
    ]
   },
   "outputs": [
    {
     "data": {
      "image/png": "[encoded data removed]",
      "text/plain": [
       "<matplotlib.figure.Figure at 0x16a8a2e3a58>"
      ]
     },
     "metadata": {},
     "output_type": "display_data"
    }
   ],
   "source": [
    "# Display flu vaccination age distribution as histogram, 0-800 days old, with 160 bins\n",
    "plt.hist(flu, range = (0,800), bins=160)\n",
    "plt.xlabel('Age of child (in days) upon receiving first flu vaccine')\n",
    "plt.ylabel('Number of children')\n",
    "plt.title('Age of children receiving their first flu immunization')\n",
    "plt.show()"
   ]
  },
  {
   "cell_type": "code",
   "execution_count": 20,
   "metadata": {
    "tags": [
     "@tests"
    ]
   },
   "outputs": [
    {
     "data": {
      "application/json": "{\"success\": true, \"summary\": {\"tests\": 1, \"failures\": 0, \"errors\": 0}, \"tests\": [{\"name\": \"test_example\", \"success\": true, \"message\": \"\"}]}"
     },
     "metadata": {},
     "output_type": "display_data"
    },
    {
     "data": {
      "text/plain": [
       "1/1 tests passed\n"
      ]
     },
     "execution_count": 20,
     "metadata": {},
     "output_type": "execute_result"
    }
   ],
   "source": [
    "\"\"\"%%nose\n",
    "\n",
    "# one or more tests of the students code. \n",
    "# The @solution should pass the tests.\n",
    "# The purpose of the tests is to try to catch common errors and to \n",
    "# give the student a hint on how to resolve these errors.\n",
    "\n",
    "def test_example():\n",
    "    assert 'flu' in globals(), \\\n",
    "    'Check to see that `flu` contains the data you need.'\"\"\""
   ]
  },
  {
   "cell_type": "markdown",
   "metadata": {
    "tags": [
     "type:NotebookTask"
    ]
   },
   "source": [
    "## 8. Visualizing the first _three_ flu vaccines"
   ]
  },
  {
   "cell_type": "markdown",
   "metadata": {
    "tags": [
     "@context"
    ]
   },
   "source": [
    "Judging by the shape of the previous histogram, it looks like the first flu shot tends to be administered at a regular checkup, mainly 6, 9, or 12 months. Hardly any were administered before 6 months, which is [the CDC's recommended minimum age](https://www.cdc.gov/flu/protect/children.htm) for a flu vaccine.\n",
    "\n",
    "The flu shot is administered far more frequently than the MMR, though. In fact, most infants are recommended to receive _two_ doses of the flu shot during their first flu season. The National Immunization Survey includes dates for (up to) the first nine flu immunizations, so let's look a little closer at some of these other vaccinations. This next histogram shows the ages at which children received any of their first three (reported) flu shots.\n",
    "\n",
    "This is fascinating! The half bell curve is still pronounced for many of the regular checkups (6, 9, 12, 15, and 18 months), but there is also a more rounded peak about a month after each one of those checkup dates, especially between 6 and 18 months old. The CDC recommends that for children receiving two flu shots in a single season (typical for the first season receiving a flu shot), there should be at least 28 days between doses, explaning the second peak. Since 6 months is the minimum age for the flu vaccine, and a child's first flu season in which they are eligible for the vaccine will come between 6 and 18 months old, this is the time period during which the double-peak is most pronounced.\n",
    "\n",
    "But why is the second peak more rounded than the first? The first peak is a half bell curve likely because of minimum recommended (or required) ages for vaccines administered at those checkups. But the second peak of each pair is only for a flu shot. There is no birthday/milestone associated with the date, and parents might feel less urgency about having the _second_ dose at the first safe date than they do about vaccines their child is receiving for the first time. Regardless, we can see that the first flu shot dates exhibit both a seasonal effect _and_ some of the same checkup-oriented scheduling effects as the MMR, like the half bell curve. However, the _second_ flu shot tends to follow a more normal distribution of ages, despite tending to follow a regular checkup by about a month."
   ]
  },
  {
   "cell_type": "markdown",
   "metadata": {
    "tags": [
     "@instructions"
    ]
   },
   "source": [
    "Display a histogram showing the ages of children's first three flu vaccines.\n",
    "\n",
    "- Create a new list `flu_shots` that contains all the non-null values of the columns `DFLU1`, `DFLU2`, and `DFLU3` in `vac`.\n",
    "- Create a histogram showing the distribution of those vaccinations in `flu_shots`. All options should be the same as in Task 7, but be sure to update the axis labels and plot title appropriately."
   ]
  },
  {
   "cell_type": "markdown",
   "metadata": {
    "tags": [
     "@hint"
    ]
   },
   "source": [
    "You have seen the code needed to make a list of all non-null values in a column in previous tasks. The one-line version will be the simplest for this task:\n",
    "\n",
    "```\n",
    "list(vac[vac['column_name'].notnull()]['column_name'])\n",
    "```\n",
    "\n",
    "To create a list from _three_ columns, concatenate lists with `+`:\n",
    "\n",
    "```\n",
    "long_list = list1 + list2 + list3\n",
    "```"
   ]
  },
  {
   "cell_type": "code",
   "execution_count": 33,
   "metadata": {
    "collapsed": true,
    "tags": [
     "@sample_code"
    ]
   },
   "outputs": [],
   "source": [
    "# creating a list containing all non-null ages in `DFLU1`, `DFLU2`, and `DFLU3`\n",
    "flu_shots = ...\n",
    "\n",
    "# Displaying flu vaccination age distribution as histogram, 0-800 days old, with 160 bins\n",
    "..."
   ]
  },
  {
   "cell_type": "code",
   "execution_count": 22,
   "metadata": {
    "tags": [
     "@solution"
    ]
   },
   "outputs": [
    {
     "data": {
      "image/png": "[encoded data removed]",
      "text/plain": [
       "<matplotlib.figure.Figure at 0x2a7f6e5d4e0>"
      ]
     },
     "metadata": {},
     "output_type": "display_data"
    }
   ],
   "source": [
    "# creating a list containing all non-null ages in `DFLU1`, `DFLU2`, and `DFLU3`\n",
    "flu_shots = list(vac[vac['DFLU1'].notnull()]['DFLU1']) + list(vac[vac['DFLU2'].notnull()]['DFLU2']) + list(vac[vac['DFLU2'].notnull()]['DFLU2'])\n",
    "\n",
    "# Displaying flu vaccination age distribution as histogram, 0-800 days old, with 160 bins\n",
    "plt.hist(flu_shots, range = (0,800), bins=160)\n",
    "plt.xlabel('Age of child (in days) upon receiving flu vaccine')\n",
    "plt.ylabel('Number of children')\n",
    "plt.title('Age of children receiving their first three flu immunizations')\n",
    "plt.show()"
   ]
  },
  {
   "cell_type": "code",
   "execution_count": 23,
   "metadata": {
    "tags": [
     "@tests"
    ]
   },
   "outputs": [
    {
     "data": {
      "application/json": "{\"success\": true, \"summary\": {\"tests\": 1, \"failures\": 0, \"errors\": 0}, \"tests\": [{\"name\": \"test_example\", \"success\": true, \"message\": \"\"}]}"
     },
     "metadata": {},
     "output_type": "display_data"
    },
    {
     "data": {
      "text/plain": [
       "1/1 tests passed\n"
      ]
     },
     "execution_count": 23,
     "metadata": {},
     "output_type": "execute_result"
    }
   ],
   "source": [
    "\"\"\"%%nose\n",
    "\n",
    "# one or more tests of the students code. \n",
    "# The @solution should pass the tests.\n",
    "# The purpose of the tests is to try to catch common errors and to \n",
    "# give the student a hint on how to resolve these errors.\n",
    "\n",
    "def test_example():\n",
    "    assert flu_shots == list(vac[vac['DFLU1'].notnull()]['DFLU1']) + list(vac[vac['DFLU2'].notnull()]['DFLU2']) + list(vac[vac['DFLU2'].notnull()]['DFLU2']), \\\n",
    "    '`flu_shots` does not contain the correct data. Be sure to remove null values and concatenate multiple lists with `+`.'\"\"\""
   ]
  },
  {
   "cell_type": "markdown",
   "metadata": {
    "tags": [
     "type:NotebookTask"
    ]
   },
   "source": [
    "## 9. Bringing it all together"
   ]
  },
  {
   "cell_type": "markdown",
   "metadata": {
    "tags": [
     "@context"
    ]
   },
   "source": [
    "Since both of these vaccines are tied to regular doctor visits in some way, let's plot the first MMR and the first flu shot together and see what kind of large-scale relationship we can find."
   ]
  },
  {
   "cell_type": "markdown",
   "metadata": {
    "tags": [
     "@instructions"
    ]
   },
   "source": [
    "Display a scatter plot comparing the first MMR vaccination date (X axis) to the first flu vaccination date (Y axis).\n",
    "\n",
    "- Create a new dataframe `flu_vs_mmr` by subsetting `vac` to only include the columns `DFLU1` and `DMMR1`.\n",
    "- Use `plt.scatter()` to create a scatter plot with `DMMR1` as the X axis and `DFLU1` as the Y axis.\n",
    "- Use `plt.xlabel()`, `plt.ylabel()`, and `plt.title()` to provide appropriate labels to the plot.\n",
    "- Show your plot.\n",
    "\n",
    "<hr/>\n",
    "\n",
    "We used the `notnull()` method above to remove null values from lists, but here we use the `dropna()` method. This method, when no options are passed to it, returns only the rows that contain no null values _in any column_. It's a helpful method to know about when performing statistical analysis on messy or incomplete datasets."
   ]
  },
  {
   "cell_type": "markdown",
   "metadata": {
    "tags": [
     "@hint"
    ]
   },
   "source": [
    "Since you are subsetting `vac` according to a list of columns, you need double square brackets -- one for the subset, one for the list:\n",
    "\n",
    "```\n",
    "flu_vs_mmr = vac[['column_name_1', 'column_name_2']]\n",
    "```\n",
    "\n",
    "Be sure to call the columns of the cleaned dataframe `flu_vs_mmr` in `plt.scatter()`, not the raw columns from `vac`."
   ]
  },
  {
   "cell_type": "code",
   "execution_count": null,
   "metadata": {
    "collapsed": true,
    "tags": [
     "@sample_code"
    ]
   },
   "outputs": [],
   "source": [
    "# subsetting vac to only the `DFLU1` and `DMMR1` columns\n",
    "flu_vs_mmr = ...\n",
    "\n",
    "# Removing any rows containing one or more null values from flu_vs_mmr\n",
    "flu_vs_mmr = flu_vs_mmr.dropna()\n",
    "\n",
    "# Plotting the age of the first MMR vaccine (X) against the first flu vaccine (Y)\n",
    "plt.scatter(..., ...)\n",
    "..."
   ]
  },
  {
   "cell_type": "code",
   "execution_count": 27,
   "metadata": {
    "tags": [
     "@solution"
    ]
   },
   "outputs": [
    {
     "data": {
      "image/png": "[encoded data removed]",
      "text/plain": [
       "<matplotlib.figure.Figure at 0x2a7f7fac240>"
      ]
     },
     "metadata": {},
     "output_type": "display_data"
    }
   ],
   "source": [
    "# subsetting vac to only the `DFLU1` and `DMMR1` columns\n",
    "flu_vs_mmr = vac[['DFLU1', 'DMMR1']]\n",
    "\n",
    "# Removing any rows containing one or more null values from flu_vs_mmr\n",
    "flu_vs_mmr = flu_vs_mmr.dropna()\n",
    "\n",
    "# Plotting the age of the first MMR vaccine (X) against the first flu vaccine (Y)\n",
    "plt.scatter(flu_vs_mmr['DMMR1'], flu_vs_mmr['DFLU1'])\n",
    "plt.xlabel('Age of child (in days) upon receiving first MMR vaccine')\n",
    "plt.ylabel('Age of child (in days) upon receiving first flu vaccine')\n",
    "plt.title('MMR and flu vaccination dates compared')\n",
    "plt.show()"
   ]
  },
  {
   "cell_type": "code",
   "execution_count": 5,
   "metadata": {
    "tags": [
     "@tests"
    ]
   },
   "outputs": [
    {
     "data": {
      "application/json": "{\"success\": false, \"summary\": {\"tests\": 1, \"failures\": 1, \"errors\": 0}, \"tests\": [{\"name\": \"test_example\", \"success\": false, \"message\": \"AssertionError: There is no dataframe `flu_vs_mmr`. Make sure you've correctly imported the data.\\n\"}]}"
     },
     "metadata": {},
     "output_type": "display_data"
    },
    {
     "data": {
      "text/plain": [
       "0/1 tests passed; 1 failed\n",
       "========\n",
       "__main__.test_example\n",
       "========\n",
       "Traceback (most recent call last):\n",
       "  File \"C:\\ProgramData\\Anaconda3\\lib\\unittest\\case.py\", line 59, in testPartExecutor\n",
       "    yield\n",
       "  File \"C:\\ProgramData\\Anaconda3\\lib\\unittest\\case.py\", line 605, in run\n",
       "    testMethod()\n",
       "  File \"C:\\ProgramData\\Anaconda3\\lib\\site-packages\\nose\\case.py\", line 197, in runTest\n",
       "    self.test(*self.arg)\n",
       "  File \"<string>\", line 8, in test_example\n",
       "AssertionError: There is no dataframe `flu_vs_mmr`. Make sure you've correctly imported the data.\n",
       "\n"
      ]
     },
     "execution_count": 5,
     "metadata": {},
     "output_type": "execute_result"
    }
   ],
   "source": [
    "\"\"\"%%nose\n",
    "\n",
    "# one or more tests of the students code. \n",
    "# The @solution should pass the tests.\n",
    "# The purpose of the tests is to try to catch common errors and to \n",
    "# give the student a hint on how to resolve these errors.\n",
    "\n",
    "def test_example():\n",
    "    assert 'flu_vs_mmr' in globals(), 'There is no dataframe `flu_vs_mmr`. Make sure you\\'ve correctly imported the data.'\n",
    "\n",
    "    try:\n",
    "        pd.testing.assert_frame_equal(flu_vs_mmr, vac[['DFLU1', 'DMMR1']].dropna())\n",
    "    except AssertionError:\n",
    "        assert False, '`flu_vs_mmr` does not contain the correct data. Be sure to use double square brackets `[[]]` to subset `vac` with multiple columns.'\n",
    "    \"\"\""
   ]
  },
  {
   "cell_type": "markdown",
   "metadata": {
    "tags": [
     "type:NotebookTask"
    ]
   },
   "source": [
    "## 10. Conclusion"
   ]
  },
  {
   "cell_type": "markdown",
   "metadata": {
    "tags": [
     "@context"
    ]
   },
   "source": [
    "I don't know about you, but this isn't what I expected to see! I expected to see more of a linear relationship -- perhaps multiple lines with a `y = x` slope, but different intercepts (corresponding to the scheduled checkup closest to the start of the child's first flu season). Instead, we see a lot of blobs with a rough L shape, taller than they are wide. What does this mean?\n",
    "\n",
    "The vertical line component of each L corresponds to children getting their first MMR at the same age, but their first flu shot on different dates. More pronounced lines correspond to more children getting their MMR at the same age, and expectedly overlap with the spikes we saw in the histogram analysis above. \n",
    "\n",
    "The horizontal lines represent children getting their first flu shot at the same age, but not their MMR. Since the MMR is more tied to age and the flu to season, it makes sense that these lines would be shorter than the vertical lines. The fact that they point to the right, rather than straddle the vertical lines, corresponds to the half bell curve seen in the histograms. As noted above, parents bring children in for checkups _on or after_ certain ages, rather than before. And since infants' MMR shots tend to be done at one of these checkups, it makes sense that we would see this trend here as well.\n",
    "\n",
    "Finally, there _is_ a line in this plot, exactly on the `y = x` slope. What do you think it represents?"
   ]
  },
  {
   "cell_type": "markdown",
   "metadata": {
    "tags": [
     "@instructions"
    ]
   },
   "source": [
    "Print the appropriate interpretation for the `y = x` line.\n",
    "\n",
    "- Assign the appropriate index number to the list `interpretation`, corresponding to the best interpretation."
   ]
  },
  {
   "cell_type": "markdown",
   "metadata": {
    "tags": [
     "@hint"
    ]
   },
   "source": [
    "Remember that indexes in Python begin with `0`. Your options here are `0`, `1`, and `2`."
   ]
  },
  {
   "cell_type": "code",
   "execution_count": null,
   "metadata": {
    "collapsed": true,
    "tags": [
     "@sample_code"
    ]
   },
   "outputs": [],
   "source": [
    "# interpreting the results\n",
    "interpretation = ['children who only received one vaccine.', \n",
    "                  'children who received both vaccines exactly on their birthday.', \n",
    "                  'children who received their first MMR and their first flu shot on the same day.']\n",
    "\n",
    "correct = interpretation[...]\n",
    "\n",
    "print('The `y = x` line on the scatter plot corresponds to ' + correct)"
   ]
  },
  {
   "cell_type": "code",
   "execution_count": 31,
   "metadata": {
    "tags": [
     "@solution"
    ]
   },
   "outputs": [
    {
     "name": "stdout",
     "output_type": "stream",
     "text": [
      "The `y = x` line on the scatter plot corresponds to children who received their first MMR and their first flu shot on the same day.\n"
     ]
    }
   ],
   "source": [
    "# interpreting the results\n",
    "interpretation = ['children who only received one vaccine.', \n",
    "                  'children who received both vaccines exactly on their birthday.', \n",
    "                  'children who received their first MMR and their first flu shot on the same day.']\n",
    "\n",
    "correct = interpretation[2]\n",
    "\n",
    "print('The `y = x` line on the scatter plot corresponds to ' + correct)"
   ]
  },
  {
   "cell_type": "code",
   "execution_count": 33,
   "metadata": {
    "tags": [
     "@tests"
    ]
   },
   "outputs": [
    {
     "data": {
      "application/json": "{\"success\": true, \"summary\": {\"tests\": 1, \"failures\": 0, \"errors\": 0}, \"tests\": [{\"name\": \"test_nothing\", \"success\": true, \"message\": \"\"}]}"
     },
     "metadata": {},
     "output_type": "display_data"
    },
    {
     "data": {
      "text/plain": [
       "1/1 tests passed\n"
      ]
     },
     "execution_count": 33,
     "metadata": {},
     "output_type": "execute_result"
    }
   ],
   "source": [
    "\"\"\"%%nose\n",
    "\n",
    "def test_nothing():\n",
    "    assert correct == interpretation[2], \\\n",
    "    'Try again. Don\\'t forget that in Python, indexes start counting with 0.' \"\"\""
   ]
  }
 ],
 "metadata": {
  "celltoolbar": "Tags",
  "kernelspec": {
   "display_name": "Python 3",
   "language": "python",
   "name": "python3"
  },
  "language_info": {
   "codemirror_mode": {
    "name": "ipython",
    "version": 3
   },
   "file_extension": ".py",
   "mimetype": "text/x-python",
   "name": "python",
   "nbconvert_exporter": "python",
   "pygments_lexer": "ipython3",
   "version": "3.6.3"
  }
 },
 "nbformat": 4,
 "nbformat_minor": 2
}
